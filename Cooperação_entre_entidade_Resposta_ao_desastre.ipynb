{
  "nbformat": 4,
  "nbformat_minor": 0,
  "metadata": {
    "colab": {
      "provenance": [],
      "authorship_tag": "ABX9TyPhBubtIwS9K2Vjw1oDzbAO",
      "include_colab_link": true
    },
    "kernelspec": {
      "name": "python3",
      "display_name": "Python 3"
    },
    "language_info": {
      "name": "python"
    }
  },
  "cells": [
    {
      "cell_type": "markdown",
      "metadata": {
        "id": "view-in-github",
        "colab_type": "text"
      },
      "source": [
        "<a href=\"https://colab.research.google.com/github/jairoalmeid/RUA/blob/main/Coopera%C3%A7%C3%A3o_entre_entidade_Resposta_ao_desastre.ipynb\" target=\"_parent\"><img src=\"https://colab.research.google.com/assets/colab-badge.svg\" alt=\"Open In Colab\"/></a>"
      ]
    },
    {
      "cell_type": "markdown",
      "source": [
        "#Teoria dos Grafos\n",
        "###Interação e rede de cooperação"
      ],
      "metadata": {
        "id": "FkhPKu6_Szfs"
      }
    },
    {
      "cell_type": "code",
      "source": [
        "pip install networkx plotly pandas tabulate"
      ],
      "metadata": {
        "id": "-ADoORUoSwu3",
        "colab": {
          "base_uri": "https://localhost:8080/"
        },
        "outputId": "bd1c0fa0-bc93-46e4-ba41-32b6f0cede5e"
      },
      "execution_count": 1,
      "outputs": [
        {
          "output_type": "stream",
          "name": "stdout",
          "text": [
            "Requirement already satisfied: networkx in /usr/local/lib/python3.10/dist-packages (3.3)\n",
            "Requirement already satisfied: plotly in /usr/local/lib/python3.10/dist-packages (5.24.1)\n",
            "Requirement already satisfied: pandas in /usr/local/lib/python3.10/dist-packages (2.1.4)\n",
            "Requirement already satisfied: tabulate in /usr/local/lib/python3.10/dist-packages (0.9.0)\n",
            "Requirement already satisfied: tenacity>=6.2.0 in /usr/local/lib/python3.10/dist-packages (from plotly) (9.0.0)\n",
            "Requirement already satisfied: packaging in /usr/local/lib/python3.10/dist-packages (from plotly) (24.1)\n",
            "Requirement already satisfied: numpy<2,>=1.22.4 in /usr/local/lib/python3.10/dist-packages (from pandas) (1.26.4)\n",
            "Requirement already satisfied: python-dateutil>=2.8.2 in /usr/local/lib/python3.10/dist-packages (from pandas) (2.8.2)\n",
            "Requirement already satisfied: pytz>=2020.1 in /usr/local/lib/python3.10/dist-packages (from pandas) (2024.2)\n",
            "Requirement already satisfied: tzdata>=2022.1 in /usr/local/lib/python3.10/dist-packages (from pandas) (2024.1)\n",
            "Requirement already satisfied: six>=1.5 in /usr/local/lib/python3.10/dist-packages (from python-dateutil>=2.8.2->pandas) (1.16.0)\n"
          ]
        }
      ]
    },
    {
      "cell_type": "code",
      "source": [
        "import networkx as nx\n",
        "import pandas as pd\n",
        "from tabulate import tabulate\n",
        "import plotly.graph_objects as go\n",
        "\n",
        "# Cria um grafo direcional\n",
        "G = nx.DiGraph()\n",
        "\n",
        "#Definição de arestas (grafo direcional)\n",
        "\n",
        "edges = [\n",
        "    ('ABJICA', 'Defesa Civil Estadual'), ('ABJICA', 'Assistência Social'), ('ABJICA', 'População'),\n",
        "    ('ABJICA', 'Saúde Mental'), ('ABJICA', 'Prefeitura'), ('Cemaden', 'Defesa Civil Municipal'),\n",
        "    ('Cemaden', 'Defesa Civil Estadual'), ('Cemaden', 'Comunicação Social'),\n",
        "    ('Defesa Civil Municipal', 'Defesa Civil Estadual'), ('Defesa Civil Municipal', 'Bombeiros'),\n",
        "    ('Defesa Civil Municipal', 'Academia'), ('Defesa Civil Municipal', 'Prefeitura'),\n",
        "    ('Defesa Civil Municipal', 'Zoonoses'), ('Defesa Civil Municipal', 'CGE'),\n",
        "    ('Defesa Civil Estadual', 'Cemaden'), ('Defesa Civil Estadual', 'Defesa Civil Municipal'),\n",
        "    ('Defesa Civil Estadual', 'IPT'), ('Defesa Civil Estadual', 'Bombeiros'),\n",
        "    ('Defesa Civil Estadual', 'Assistência Social'), ('Defesa Civil Estadual', 'CCOI'),\n",
        "    ('Defesa Civil Estadual', 'Academia'), ('Defesa Civil Estadual', 'Comunicação Social'),\n",
        "    ('IPT', 'Defesa Civil Municipal'), ('IPT', 'Defesa Civil Estadual'), ('IPT', 'Bombeiros'),\n",
        "    ('Bombeiros', 'Academia'), ('Bombeiros', 'Defesa Civil Municipal'), ('Bombeiros', 'Defesa Civil Estadual'),\n",
        "    ('Bombeiros', 'Polícia Militar'), ('Bombeiros', 'Comunicação Social'), ('GCM', 'Prefeitura'),\n",
        "    ('GCM', 'População'), ('GCM', 'Academia'), ('GCM', 'Segurança pública'), ('GCM', 'Zoonoses'),\n",
        "    ('Academia', 'População'), ('Academia', 'Comunicação Social'), ('Academia', 'Assistência Social'),\n",
        "    ('Comunicação Social', 'Prefeitura'), ('Comunicação Social', 'População'), ('Comunicação Social', 'INPE'),\n",
        "    ('Comunicação Social', 'Cruz Vermelha'), ('Comunicação Social', 'Segurança pública'),\n",
        "    ('Comunicação Social', 'Saúde Mental'), ('Comunicação Social', 'Assistência Social'),\n",
        "    ('Comunicação Social', 'Bombeiros'), ('Comunicação Social', 'IPT'), ('Comunicação Social', 'Defesa Civil Estadual'),\n",
        "    ('Comunicação Social', 'Defesa Civil Municipal'), ('Comunicação Social', 'CEMADEN'),\n",
        "    ('Saúde Mental', 'Governo'), ('SUS', 'CGE'), ('SUS', 'População'), ('SUS', 'Defesa Civil Municipal'),\n",
        "    ('Cruz Vermelha', 'População'), ('Cruz Vermelha', 'Defesa Civil Municipal'), ('Cruz Vermelha', 'Defesa Civil Estadual'),\n",
        "    ('CCOI', 'Bombeiros'), ('CCOI', 'População'), ('Assistência Social', 'Assistência Social'),\n",
        "    ('Assistência Social', 'Prefeitura'), ('Defesa Civil Estadual', 'Exército'), ('Defesa Civil Estadual', 'Forças armadas'),\n",
        "    ('Defesa Civil Estadual', 'CEMADEN'), ('Defesa Civil Estadual', 'INPE'), ('Defesa Civil Estadual', 'Cruz Vermelha'),\n",
        "    ('Defesa Civil Estadual', 'Defesa Civil Municipal'), ('Defesa Civil Estadual', 'CCOI'), ('Defesa Civil Estadual', 'Segurança pública'),\n",
        "    ('Defesa Civil Estadual', 'Comunicação Social'), ('Defesa Civil Estadual', 'População'), ('Defesa Civil Estadual', 'Governador'),\n",
        "    ('Defesa Civil Municipal', 'Assistência Social'), ('Defesa Civil Municipal', 'CCOI'),\n",
        "    ('Defesa Civil Municipal', 'Bombeiros'), ('Defesa Civil Municipal', 'Saúde Mental'),\n",
        "    ('Defesa Civil Municipal', 'Segurança pública'), ('Defesa Civil Municipal', 'Cruz Vermelha'),\n",
        "    ('IPT', 'CCOI'), ('IPT', 'Academia'), ('Saúde Mental', 'Defesa Civil Municipal'), ('Saúde Mental', 'Defesa Civil Estadual'),\n",
        "    ('Saúde Mental', 'Comunicação Social'), ('Saúde Mental', 'Prefeitura'), ('Bombeiros', 'IPT'),\n",
        "    ('Bombeiros', 'Assistência Social'), ('Bombeiros', 'Segurança Pública'), ('Bombeiros', 'Prefeitura'),\n",
        "    ('SUS', 'UBS'), ('SUS', 'AMA'), ('SUS', 'Vigilância em Saúde'), ('Academia', 'Bombeiros'),\n",
        "    ('Academia', 'Defesa Civil Municipal'), ('GCM', 'Controle de Trânsito'), ('Comunicação Social', 'INPE'),\n",
        "    ('População', 'Bombeiros'), ('População', 'Saúde Mental'), ('População', 'Assistência Social')\n",
        "]\n",
        "\n",
        "G.add_edges_from(edges)"
      ],
      "metadata": {
        "id": "PvG2ngI8VACZ"
      },
      "execution_count": 2,
      "outputs": []
    },
    {
      "cell_type": "markdown",
      "source": [
        "Análise estatística da rede"
      ],
      "metadata": {
        "id": "K14BEqknVuft"
      }
    },
    {
      "cell_type": "code",
      "source": [
        "# Total de conexões\n",
        "total_conexoes = len(G.edges())\n",
        "print(f\"Total de conexões: {total_conexoes}\")\n",
        "\n",
        "# Calcula métricas de centralidade\n",
        "degree = dict(G.degree())\n",
        "in_degree = dict(G.in_degree())\n",
        "out_degree = dict(G.out_degree())\n",
        "betweenness = nx.betweenness_centrality(G)\n",
        "closeness = nx.closeness_centrality(G)\n",
        "\n",
        "# Criando um DataFrame para mostrar os resultados\n",
        "results_df = pd.DataFrame({\n",
        "    'Entidade': list(G.nodes),\n",
        "    'Grau': [degree[node] for node in G.nodes],\n",
        "    'Grau de Entrada': [in_degree[node] for node in G.nodes],\n",
        "    'Grau de Saída': [out_degree[node] for node in G.nodes],\n",
        "    'Centralidade de Intermediação': [betweenness[node] for node in G.nodes],\n",
        "    'Centralidade de Proximidade': [closeness[node] for node in G.nodes]\n",
        "})\n",
        "\n",
        "# Ordenando por Centralidade de Intermediação\n",
        "results_df.sort_values(by='Centralidade de Intermediação', ascending=False, inplace=True)\n",
        "\n",
        "# Exibindo o DataFrame em formato de tabela\n",
        "print(tabulate(results_df, headers='keys', tablefmt='fancy_grid', floatfmt=\".2f\"))\n",
        "\n",
        "# Opcional: Salvar o DataFrame como arquivo CSV\n",
        "results_df.to_csv('resultados_centralidade.csv', index=False)\n"
      ],
      "metadata": {
        "colab": {
          "base_uri": "https://localhost:8080/"
        },
        "id": "LqqGyy9mTFAG",
        "outputId": "5e0fdd43-652b-4a25-a07a-00425bff768b"
      },
      "execution_count": 3,
      "outputs": [
        {
          "output_type": "stream",
          "name": "stdout",
          "text": [
            "Total de conexões: 93\n",
            "╒════╤════════════════════════╤════════╤═══════════════════╤═════════════════╤═════════════════════════════════╤═══════════════════════════════╕\n",
            "│    │ Entidade               │   Grau │   Grau de Entrada │   Grau de Saída │   Centralidade de Intermediação │   Centralidade de Proximidade │\n",
            "╞════╪════════════════════════╪════════╪═══════════════════╪═════════════════╪═════════════════════════════════╪═══════════════════════════════╡\n",
            "│  1 │ Defesa Civil Estadual  │     24 │                 8 │              16 │                            0.11 │                          0.30 │\n",
            "├────┼────────────────────────┼────────┼───────────────────┼─────────────────┼─────────────────────────────────┼───────────────────────────────┤\n",
            "│  7 │ Defesa Civil Municipal │     20 │                 9 │              11 │                            0.08 │                          0.33 │\n",
            "├────┼────────────────────────┼────────┼───────────────────┼─────────────────┼─────────────────────────────────┼───────────────────────────────┤\n",
            "│  9 │ Bombeiros              │     16 │                 7 │               9 │                            0.07 │                          0.30 │\n",
            "├────┼────────────────────────┼────────┼───────────────────┼─────────────────┼─────────────────────────────────┼───────────────────────────────┤\n",
            "│  8 │ Comunicação Social     │     17 │                 5 │              12 │                            0.03 │                          0.26 │\n",
            "├────┼────────────────────────┼────────┼───────────────────┼─────────────────┼─────────────────────────────────┼───────────────────────────────┤\n",
            "│  4 │ Saúde Mental           │      9 │                 4 │               5 │                            0.03 │                          0.26 │\n",
            "├────┼────────────────────────┼────────┼───────────────────┼─────────────────┼─────────────────────────────────┼───────────────────────────────┤\n",
            "│  3 │ População              │     11 │                 8 │               3 │                            0.02 │                          0.31 │\n",
            "├────┼────────────────────────┼────────┼───────────────────┼─────────────────┼─────────────────────────────────┼───────────────────────────────┤\n",
            "│ 10 │ Academia               │     10 │                 5 │               5 │                            0.02 │                          0.27 │\n",
            "├────┼────────────────────────┼────────┼───────────────────┼─────────────────┼─────────────────────────────────┼───────────────────────────────┤\n",
            "│ 13 │ IPT                    │      8 │                 3 │               5 │                            0.00 │                          0.23 │\n",
            "├────┼────────────────────────┼────────┼───────────────────┼─────────────────┼─────────────────────────────────┼───────────────────────────────┤\n",
            "│  2 │ Assistência Social     │     10 │                 8 │               2 │                            0.00 │                          0.31 │\n",
            "├────┼────────────────────────┼────────┼───────────────────┼─────────────────┼─────────────────────────────────┼───────────────────────────────┤\n",
            "│ 14 │ CCOI                   │      5 │                 3 │               2 │                            0.00 │                          0.23 │\n",
            "├────┼────────────────────────┼────────┼───────────────────┼─────────────────┼─────────────────────────────────┼───────────────────────────────┤\n",
            "│ 19 │ Cruz Vermelha          │      6 │                 3 │               3 │                            0.00 │                          0.22 │\n",
            "├────┼────────────────────────┼────────┼───────────────────┼─────────────────┼─────────────────────────────────┼───────────────────────────────┤\n",
            "│ 23 │ Exército               │      1 │                 1 │               0 │                            0.00 │                          0.20 │\n",
            "├────┼────────────────────────┼────────┼───────────────────┼─────────────────┼─────────────────────────────────┼───────────────────────────────┤\n",
            "│ 24 │ Forças armadas         │      1 │                 1 │               0 │                            0.00 │                          0.20 │\n",
            "├────┼────────────────────────┼────────┼───────────────────┼─────────────────┼─────────────────────────────────┼───────────────────────────────┤\n",
            "│ 25 │ Governador             │      1 │                 1 │               0 │                            0.00 │                          0.20 │\n",
            "├────┼────────────────────────┼────────┼───────────────────┼─────────────────┼─────────────────────────────────┼───────────────────────────────┤\n",
            "│  0 │ ABJICA                 │      5 │                 0 │               5 │                            0.00 │                          0.00 │\n",
            "├────┼────────────────────────┼────────┼───────────────────┼─────────────────┼─────────────────────────────────┼───────────────────────────────┤\n",
            "│ 26 │ Segurança Pública      │      1 │                 1 │               0 │                            0.00 │                          0.20 │\n",
            "├────┼────────────────────────┼────────┼───────────────────┼─────────────────┼─────────────────────────────────┼───────────────────────────────┤\n",
            "│ 27 │ UBS                    │      1 │                 1 │               0 │                            0.00 │                          0.03 │\n",
            "├────┼────────────────────────┼────────┼───────────────────┼─────────────────┼─────────────────────────────────┼───────────────────────────────┤\n",
            "│ 21 │ Governo                │      1 │                 1 │               0 │                            0.00 │                          0.18 │\n",
            "├────┼────────────────────────┼────────┼───────────────────┼─────────────────┼─────────────────────────────────┼───────────────────────────────┤\n",
            "│ 28 │ AMA                    │      1 │                 1 │               0 │                            0.00 │                          0.03 │\n",
            "├────┼────────────────────────┼────────┼───────────────────┼─────────────────┼─────────────────────────────────┼───────────────────────────────┤\n",
            "│ 29 │ Vigilância em Saúde    │      1 │                 1 │               0 │                            0.00 │                          0.03 │\n",
            "├────┼────────────────────────┼────────┼───────────────────┼─────────────────┼─────────────────────────────────┼───────────────────────────────┤\n",
            "│ 22 │ SUS                    │      6 │                 0 │               6 │                            0.00 │                          0.00 │\n",
            "├────┼────────────────────────┼────────┼───────────────────┼─────────────────┼─────────────────────────────────┼───────────────────────────────┤\n",
            "│ 15 │ Polícia Militar        │      1 │                 1 │               0 │                            0.00 │                          0.20 │\n",
            "├────┼────────────────────────┼────────┼───────────────────┼─────────────────┼─────────────────────────────────┼───────────────────────────────┤\n",
            "│ 20 │ CEMADEN                │      2 │                 2 │               0 │                            0.00 │                          0.22 │\n",
            "├────┼────────────────────────┼────────┼───────────────────┼─────────────────┼─────────────────────────────────┼───────────────────────────────┤\n",
            "│ 18 │ INPE                   │      2 │                 2 │               0 │                            0.00 │                          0.22 │\n",
            "├────┼────────────────────────┼────────┼───────────────────┼─────────────────┼─────────────────────────────────┼───────────────────────────────┤\n",
            "│ 17 │ Segurança pública      │      4 │                 4 │               0 │                            0.00 │                          0.25 │\n",
            "├────┼────────────────────────┼────────┼───────────────────┼─────────────────┼─────────────────────────────────┼───────────────────────────────┤\n",
            "│ 16 │ GCM                    │      6 │                 0 │               6 │                            0.00 │                          0.00 │\n",
            "├────┼────────────────────────┼────────┼───────────────────┼─────────────────┼─────────────────────────────────┼───────────────────────────────┤\n",
            "│ 12 │ CGE                    │      2 │                 2 │               0 │                            0.00 │                          0.22 │\n",
            "├────┼────────────────────────┼────────┼───────────────────┼─────────────────┼─────────────────────────────────┼───────────────────────────────┤\n",
            "│ 11 │ Zoonoses               │      2 │                 2 │               0 │                            0.00 │                          0.23 │\n",
            "├────┼────────────────────────┼────────┼───────────────────┼─────────────────┼─────────────────────────────────┼───────────────────────────────┤\n",
            "│  6 │ Cemaden                │      4 │                 1 │               3 │                            0.00 │                          0.18 │\n",
            "├────┼────────────────────────┼────────┼───────────────────┼─────────────────┼─────────────────────────────────┼───────────────────────────────┤\n",
            "│  5 │ Prefeitura             │      7 │                 7 │               0 │                            0.00 │                          0.33 │\n",
            "├────┼────────────────────────┼────────┼───────────────────┼─────────────────┼─────────────────────────────────┼───────────────────────────────┤\n",
            "│ 30 │ Controle de Trânsito   │      1 │                 1 │               0 │                            0.00 │                          0.03 │\n",
            "╘════╧════════════════════════╧════════╧═══════════════════╧═════════════════╧═════════════════════════════════╧═══════════════════════════════╛\n"
          ]
        }
      ]
    },
    {
      "cell_type": "markdown",
      "source": [
        "Análise gráfica da rede"
      ],
      "metadata": {
        "id": "DouSsofdVyPj"
      }
    },
    {
      "cell_type": "code",
      "source": [
        "# Gerando as posições dos nós usando o layout spring\n",
        "pos = nx.spring_layout(G)\n",
        "\n",
        "# Criando o grafo interativo com Plotly\n",
        "edge_x = []\n",
        "edge_y = []\n",
        "for edge in G.edges():\n",
        "    x0, y0 = pos[edge[0]]\n",
        "    x1, y1 = pos[edge[1]]\n",
        "    edge_x.append(x0)\n",
        "    edge_x.append(x1)\n",
        "    edge_x.append(None)\n",
        "    edge_y.append(y0)\n",
        "    edge_y.append(y1)\n",
        "    edge_y.append(None)\n",
        "\n",
        "edge_trace = go.Scatter(\n",
        "    x=edge_x, y=edge_y,\n",
        "    line=dict(width=1, color='#888'),\n",
        "    hoverinfo='none',\n",
        "    mode='lines')\n",
        "\n",
        "node_x = []\n",
        "node_y = []\n",
        "for node in G.nodes():\n",
        "    x, y = pos[node]\n",
        "    node_x.append(x)\n",
        "    node_y.append(y)\n",
        "\n",
        "node_trace = go.Scatter(\n",
        "    x=node_x, y=node_y,\n",
        "    mode='markers',\n",
        "    hoverinfo='text',\n",
        "    marker=dict(\n",
        "        showscale=True,\n",
        "        colorscale='YlGnBu',\n",
        "        size=20,\n",
        "        colorbar=dict(\n",
        "            thickness=15,\n",
        "            title='Centralidade',\n",
        "            xanchor='left',\n",
        "            titleside='right'\n",
        "        )\n",
        "    )\n",
        ")\n",
        "\n",
        "# Adicionando as informações de hover com base nos dados do DataFrame\n",
        "node_text = []\n",
        "for node in G.nodes():\n",
        "    node_info = f\"{node}<br>Grau: {degree[node]}<br>Grau de Entrada: {in_degree[node]}<br>Grau de Saída: {out_degree[node]}\"\n",
        "    node_text.append(node_info)\n",
        "\n",
        "node_trace.text = node_text\n",
        "\n",
        "# Criando a figura interativa\n",
        "fig = go.Figure(data=[edge_trace, node_trace],\n",
        "                layout=go.Layout(\n",
        "                    title='Grafo de Conexões entre Entidades',\n",
        "                    titlefont_size=16,\n",
        "                    showlegend=False,\n",
        "                    hovermode='closest',\n",
        "                    margin=dict(b=0, l=0, r=0, t=0),\n",
        "                    annotations=[dict(\n",
        "                        text=f\"Total de Conexões: {total_conexoes}\",\n",
        "                        showarrow=False,\n",
        "                        xref=\"paper\", yref=\"paper\",\n",
        "                        x=0.005, y=0.005\n",
        "                    )],\n",
        "                    xaxis=dict(showgrid=False, zeroline=False),\n",
        "                    yaxis=dict(showgrid=False, zeroline=False))\n",
        "                )\n",
        "\n",
        "fig.show()\n"
      ],
      "metadata": {
        "colab": {
          "base_uri": "https://localhost:8080/",
          "height": 542
        },
        "id": "YUvR5C5jVj23",
        "outputId": "d799d3b5-8314-4d46-d7b1-0e3dc1ecd71c"
      },
      "execution_count": 4,
      "outputs": [
        {
          "output_type": "display_data",
          "data": {
            "text/html": [
              "<html>\n",
              "<head><meta charset=\"utf-8\" /></head>\n",
              "<body>\n",
              "    <div>            <script src=\"https://cdnjs.cloudflare.com/ajax/libs/mathjax/2.7.5/MathJax.js?config=TeX-AMS-MML_SVG\"></script><script type=\"text/javascript\">if (window.MathJax && window.MathJax.Hub && window.MathJax.Hub.Config) {window.MathJax.Hub.Config({SVG: {font: \"STIX-Web\"}});}</script>                <script type=\"text/javascript\">window.PlotlyConfig = {MathJaxConfig: 'local'};</script>\n",
              "        <script charset=\"utf-8\" src=\"https://cdn.plot.ly/plotly-2.35.2.min.js\"></script>                <div id=\"e558aad3-c74a-4412-ba35-8f31c1ece57b\" class=\"plotly-graph-div\" style=\"height:525px; width:100%;\"></div>            <script type=\"text/javascript\">                                    window.PLOTLYENV=window.PLOTLYENV || {};                                    if (document.getElementById(\"e558aad3-c74a-4412-ba35-8f31c1ece57b\")) {                    Plotly.newPlot(                        \"e558aad3-c74a-4412-ba35-8f31c1ece57b\",                        [{\"hoverinfo\":\"none\",\"line\":{\"color\":\"#888\",\"width\":1},\"mode\":\"lines\",\"x\":[0.28376115461294726,0.006162159445492806,null,0.28376115461294726,0.31165768558835494,null,0.28376115461294726,0.23984804012034017,null,0.28376115461294726,0.3158896853168995,null,0.28376115461294726,0.5345048233008353,null,0.006162159445492806,-0.03210405560844235,null,0.006162159445492806,-0.07434503570279775,null,0.006162159445492806,0.058408364347379206,null,0.006162159445492806,0.08578083721401453,null,0.006162159445492806,0.31165768558835494,null,0.006162159445492806,0.17307776302831474,null,0.006162159445492806,0.11261792788281244,null,0.006162159445492806,0.012182817502164347,null,0.006162159445492806,0.33619629471937207,null,0.006162159445492806,0.6027675319740449,null,0.006162159445492806,-0.1727740525765934,null,0.006162159445492806,0.5557886587175687,null,0.006162159445492806,0.08161637827135516,null,0.006162159445492806,-0.9201453746476015,null,0.006162159445492806,0.23984804012034017,null,0.006162159445492806,-0.6597250906937158,null,0.31165768558835494,0.31165768558835494,null,0.31165768558835494,0.5345048233008353,null,0.23984804012034017,0.08578083721401453,null,0.23984804012034017,0.3158896853168995,null,0.23984804012034017,0.31165768558835494,null,0.3158896853168995,0.7018025508025679,null,0.3158896853168995,-0.07434503570279775,null,0.3158896853168995,0.006162159445492806,null,0.3158896853168995,0.012182817502164347,null,0.3158896853168995,0.5345048233008353,null,-0.03210405560844235,-0.07434503570279775,null,-0.03210405560844235,0.006162159445492806,null,-0.03210405560844235,0.012182817502164347,null,-0.07434503570279775,0.006162159445492806,null,-0.07434503570279775,0.08578083721401453,null,-0.07434503570279775,0.11261792788281244,null,-0.07434503570279775,0.5345048233008353,null,-0.07434503570279775,-0.7519060324536193,null,-0.07434503570279775,0.11118471087673479,null,-0.07434503570279775,0.31165768558835494,null,-0.07434503570279775,0.17307776302831474,null,-0.07434503570279775,0.3158896853168995,null,-0.07434503570279775,-0.9201453746476015,null,-0.07434503570279775,0.08161637827135516,null,0.012182817502164347,0.5345048233008353,null,0.012182817502164347,0.23984804012034017,null,0.012182817502164347,0.5557886587175687,null,0.012182817502164347,0.08161637827135516,null,0.012182817502164347,-0.9201453746476015,null,0.012182817502164347,0.3158896853168995,null,0.012182817502164347,0.31165768558835494,null,0.012182817502164347,0.08578083721401453,null,0.012182817502164347,0.058408364347379206,null,0.012182817502164347,0.006162159445492806,null,0.012182817502164347,-0.07434503570279775,null,0.012182817502164347,-0.1727740525765934,null,0.08578083721401453,0.11261792788281244,null,0.08578083721401453,-0.07434503570279775,null,0.08578083721401453,0.006162159445492806,null,0.08578083721401453,-0.009161092834196251,null,0.08578083721401453,0.012182817502164347,null,0.08578083721401453,0.058408364347379206,null,0.08578083721401453,0.31165768558835494,null,0.08578083721401453,-0.18920700858578854,null,0.08578083721401453,0.5345048233008353,null,0.11261792788281244,0.23984804012034017,null,0.11261792788281244,0.012182817502164347,null,0.11261792788281244,0.31165768558835494,null,0.11261792788281244,0.08578083721401453,null,0.11261792788281244,-0.07434503570279775,null,0.058408364347379206,-0.07434503570279775,null,0.058408364347379206,0.006162159445492806,null,0.058408364347379206,0.08578083721401453,null,0.058408364347379206,0.17307776302831474,null,0.058408364347379206,0.11261792788281244,null,0.17307776302831474,0.08578083721401453,null,0.17307776302831474,0.23984804012034017,null,-0.2138896901842242,0.5345048233008353,null,-0.2138896901842242,0.23984804012034017,null,-0.2138896901842242,0.11261792788281244,null,-0.2138896901842242,-0.9201453746476015,null,-0.2138896901842242,-0.7519060324536193,null,-0.2138896901842242,-0.4884408096939357,null,0.08161637827135516,0.23984804012034017,null,0.08161637827135516,-0.07434503570279775,null,0.08161637827135516,0.006162159445492806,null,-0.09700203417293018,0.11118471087673479,null,-0.09700203417293018,0.23984804012034017,null,-0.09700203417293018,-0.07434503570279775,null,-0.09700203417293018,-0.83201291376424,null,-0.09700203417293018,0.8542752365538537,null,-0.09700203417293018,-0.9368094293569661,null],\"y\":[0.2099127580062836,-0.18092806357424823,null,0.2099127580062836,0.36122113272852435,null,0.2099127580062836,0.2308105627169356,null,0.2099127580062836,0.043294491453548786,null,0.2099127580062836,0.6159654101208686,null,-0.18092806357424823,-0.05254201122952799,null,-0.18092806357424823,0.06763463006746429,null,-0.18092806357424823,0.11438225019426142,null,-0.18092806357424823,0.3246258608941379,null,-0.18092806357424823,0.36122113272852435,null,-0.18092806357424823,0.30240078531438574,null,-0.18092806357424823,0.1977237795706613,null,-0.18092806357424823,0.027944267048151002,null,-0.18092806357424823,-0.8429422364952357,null,-0.18092806357424823,-0.7878498067255378,null,-0.18092806357424823,-1.0,null,-0.18092806357424823,0.3650034734918404,null,-0.18092806357424823,0.03536908362692945,null,-0.18092806357424823,0.1655380582637059,null,-0.18092806357424823,0.2308105627169356,null,-0.18092806357424823,-0.7716353591805605,null,0.36122113272852435,0.36122113272852435,null,0.36122113272852435,0.6159654101208686,null,0.2308105627169356,0.3246258608941379,null,0.2308105627169356,0.043294491453548786,null,0.2308105627169356,0.36122113272852435,null,0.043294491453548786,-0.40525506570337966,null,0.043294491453548786,0.06763463006746429,null,0.043294491453548786,-0.18092806357424823,null,0.043294491453548786,0.027944267048151002,null,0.043294491453548786,0.6159654101208686,null,-0.05254201122952799,0.06763463006746429,null,-0.05254201122952799,-0.18092806357424823,null,-0.05254201122952799,0.027944267048151002,null,0.06763463006746429,-0.18092806357424823,null,0.06763463006746429,0.3246258608941379,null,0.06763463006746429,0.1977237795706613,null,0.06763463006746429,0.6159654101208686,null,0.06763463006746429,0.4601686661882382,null,0.06763463006746429,-0.967972692608542,null,0.06763463006746429,0.36122113272852435,null,0.06763463006746429,0.30240078531438574,null,0.06763463006746429,0.043294491453548786,null,0.06763463006746429,0.1655380582637059,null,0.06763463006746429,0.03536908362692945,null,0.027944267048151002,0.6159654101208686,null,0.027944267048151002,0.2308105627169356,null,0.027944267048151002,0.3650034734918404,null,0.027944267048151002,0.03536908362692945,null,0.027944267048151002,0.1655380582637059,null,0.027944267048151002,0.043294491453548786,null,0.027944267048151002,0.36122113272852435,null,0.027944267048151002,0.3246258608941379,null,0.027944267048151002,0.11438225019426142,null,0.027944267048151002,-0.18092806357424823,null,0.027944267048151002,0.06763463006746429,null,0.027944267048151002,-1.0,null,0.3246258608941379,0.1977237795706613,null,0.3246258608941379,0.06763463006746429,null,0.3246258608941379,-0.18092806357424823,null,0.3246258608941379,0.6686312829609942,null,0.3246258608941379,0.027944267048151002,null,0.3246258608941379,0.11438225019426142,null,0.3246258608941379,0.36122113272852435,null,0.3246258608941379,0.738593342913711,null,0.3246258608941379,0.6159654101208686,null,0.1977237795706613,0.2308105627169356,null,0.1977237795706613,0.027944267048151002,null,0.1977237795706613,0.36122113272852435,null,0.1977237795706613,0.3246258608941379,null,0.1977237795706613,0.06763463006746429,null,0.11438225019426142,0.06763463006746429,null,0.11438225019426142,-0.18092806357424823,null,0.11438225019426142,0.3246258608941379,null,0.11438225019426142,0.30240078531438574,null,0.11438225019426142,0.1977237795706613,null,0.30240078531438574,0.3246258608941379,null,0.30240078531438574,0.2308105627169356,null,0.39666196858679853,0.6159654101208686,null,0.39666196858679853,0.2308105627169356,null,0.39666196858679853,0.1977237795706613,null,0.39666196858679853,0.1655380582637059,null,0.39666196858679853,0.4601686661882382,null,0.39666196858679853,0.6975275009580902,null,0.03536908362692945,0.2308105627169356,null,0.03536908362692945,0.06763463006746429,null,0.03536908362692945,-0.18092806357424823,null,-0.2707335162230181,-0.967972692608542,null,-0.2707335162230181,0.2308105627169356,null,-0.2707335162230181,0.06763463006746429,null,-0.2707335162230181,-0.4695998173946321,null,-0.2707335162230181,-0.11499173066489632,null,-0.2707335162230181,-0.15895900530595375,null],\"type\":\"scatter\"},{\"hoverinfo\":\"text\",\"marker\":{\"colorbar\":{\"thickness\":15,\"title\":{\"side\":\"right\",\"text\":\"Centralidade\"},\"xanchor\":\"left\"},\"colorscale\":[[0.0,\"rgb(255,255,217)\"],[0.125,\"rgb(237,248,177)\"],[0.25,\"rgb(199,233,180)\"],[0.375,\"rgb(127,205,187)\"],[0.5,\"rgb(65,182,196)\"],[0.625,\"rgb(29,145,192)\"],[0.75,\"rgb(34,94,168)\"],[0.875,\"rgb(37,52,148)\"],[1.0,\"rgb(8,29,88)\"]],\"showscale\":true,\"size\":20},\"mode\":\"markers\",\"text\":[\"ABJICA\\u003cbr\\u003eGrau: 5\\u003cbr\\u003eGrau de Entrada: 0\\u003cbr\\u003eGrau de Sa\\u00edda: 5\",\"Defesa Civil Estadual\\u003cbr\\u003eGrau: 24\\u003cbr\\u003eGrau de Entrada: 8\\u003cbr\\u003eGrau de Sa\\u00edda: 16\",\"Assist\\u00eancia Social\\u003cbr\\u003eGrau: 10\\u003cbr\\u003eGrau de Entrada: 8\\u003cbr\\u003eGrau de Sa\\u00edda: 2\",\"Popula\\u00e7\\u00e3o\\u003cbr\\u003eGrau: 11\\u003cbr\\u003eGrau de Entrada: 8\\u003cbr\\u003eGrau de Sa\\u00edda: 3\",\"Sa\\u00fade Mental\\u003cbr\\u003eGrau: 9\\u003cbr\\u003eGrau de Entrada: 4\\u003cbr\\u003eGrau de Sa\\u00edda: 5\",\"Prefeitura\\u003cbr\\u003eGrau: 7\\u003cbr\\u003eGrau de Entrada: 7\\u003cbr\\u003eGrau de Sa\\u00edda: 0\",\"Cemaden\\u003cbr\\u003eGrau: 4\\u003cbr\\u003eGrau de Entrada: 1\\u003cbr\\u003eGrau de Sa\\u00edda: 3\",\"Defesa Civil Municipal\\u003cbr\\u003eGrau: 20\\u003cbr\\u003eGrau de Entrada: 9\\u003cbr\\u003eGrau de Sa\\u00edda: 11\",\"Comunica\\u00e7\\u00e3o Social\\u003cbr\\u003eGrau: 17\\u003cbr\\u003eGrau de Entrada: 5\\u003cbr\\u003eGrau de Sa\\u00edda: 12\",\"Bombeiros\\u003cbr\\u003eGrau: 16\\u003cbr\\u003eGrau de Entrada: 7\\u003cbr\\u003eGrau de Sa\\u00edda: 9\",\"Academia\\u003cbr\\u003eGrau: 10\\u003cbr\\u003eGrau de Entrada: 5\\u003cbr\\u003eGrau de Sa\\u00edda: 5\",\"Zoonoses\\u003cbr\\u003eGrau: 2\\u003cbr\\u003eGrau de Entrada: 2\\u003cbr\\u003eGrau de Sa\\u00edda: 0\",\"CGE\\u003cbr\\u003eGrau: 2\\u003cbr\\u003eGrau de Entrada: 2\\u003cbr\\u003eGrau de Sa\\u00edda: 0\",\"IPT\\u003cbr\\u003eGrau: 8\\u003cbr\\u003eGrau de Entrada: 3\\u003cbr\\u003eGrau de Sa\\u00edda: 5\",\"CCOI\\u003cbr\\u003eGrau: 5\\u003cbr\\u003eGrau de Entrada: 3\\u003cbr\\u003eGrau de Sa\\u00edda: 2\",\"Pol\\u00edcia Militar\\u003cbr\\u003eGrau: 1\\u003cbr\\u003eGrau de Entrada: 1\\u003cbr\\u003eGrau de Sa\\u00edda: 0\",\"GCM\\u003cbr\\u003eGrau: 6\\u003cbr\\u003eGrau de Entrada: 0\\u003cbr\\u003eGrau de Sa\\u00edda: 6\",\"Seguran\\u00e7a p\\u00fablica\\u003cbr\\u003eGrau: 4\\u003cbr\\u003eGrau de Entrada: 4\\u003cbr\\u003eGrau de Sa\\u00edda: 0\",\"INPE\\u003cbr\\u003eGrau: 2\\u003cbr\\u003eGrau de Entrada: 2\\u003cbr\\u003eGrau de Sa\\u00edda: 0\",\"Cruz Vermelha\\u003cbr\\u003eGrau: 6\\u003cbr\\u003eGrau de Entrada: 3\\u003cbr\\u003eGrau de Sa\\u00edda: 3\",\"CEMADEN\\u003cbr\\u003eGrau: 2\\u003cbr\\u003eGrau de Entrada: 2\\u003cbr\\u003eGrau de Sa\\u00edda: 0\",\"Governo\\u003cbr\\u003eGrau: 1\\u003cbr\\u003eGrau de Entrada: 1\\u003cbr\\u003eGrau de Sa\\u00edda: 0\",\"SUS\\u003cbr\\u003eGrau: 6\\u003cbr\\u003eGrau de Entrada: 0\\u003cbr\\u003eGrau de Sa\\u00edda: 6\",\"Ex\\u00e9rcito\\u003cbr\\u003eGrau: 1\\u003cbr\\u003eGrau de Entrada: 1\\u003cbr\\u003eGrau de Sa\\u00edda: 0\",\"For\\u00e7as armadas\\u003cbr\\u003eGrau: 1\\u003cbr\\u003eGrau de Entrada: 1\\u003cbr\\u003eGrau de Sa\\u00edda: 0\",\"Governador\\u003cbr\\u003eGrau: 1\\u003cbr\\u003eGrau de Entrada: 1\\u003cbr\\u003eGrau de Sa\\u00edda: 0\",\"Seguran\\u00e7a P\\u00fablica\\u003cbr\\u003eGrau: 1\\u003cbr\\u003eGrau de Entrada: 1\\u003cbr\\u003eGrau de Sa\\u00edda: 0\",\"UBS\\u003cbr\\u003eGrau: 1\\u003cbr\\u003eGrau de Entrada: 1\\u003cbr\\u003eGrau de Sa\\u00edda: 0\",\"AMA\\u003cbr\\u003eGrau: 1\\u003cbr\\u003eGrau de Entrada: 1\\u003cbr\\u003eGrau de Sa\\u00edda: 0\",\"Vigil\\u00e2ncia em Sa\\u00fade\\u003cbr\\u003eGrau: 1\\u003cbr\\u003eGrau de Entrada: 1\\u003cbr\\u003eGrau de Sa\\u00edda: 0\",\"Controle de Tr\\u00e2nsito\\u003cbr\\u003eGrau: 1\\u003cbr\\u003eGrau de Entrada: 1\\u003cbr\\u003eGrau de Sa\\u00edda: 0\"],\"x\":[0.28376115461294726,0.006162159445492806,0.31165768558835494,0.23984804012034017,0.3158896853168995,0.5345048233008353,-0.03210405560844235,-0.07434503570279775,0.012182817502164347,0.08578083721401453,0.11261792788281244,-0.7519060324536193,0.11118471087673479,0.058408364347379206,0.17307776302831474,-0.009161092834196251,-0.2138896901842242,-0.9201453746476015,0.5557886587175687,0.08161637827135516,-0.1727740525765934,0.7018025508025679,-0.09700203417293018,0.33619629471937207,0.6027675319740449,-0.6597250906937158,-0.18920700858578854,-0.83201291376424,0.8542752365538537,-0.9368094293569661,-0.4884408096939357],\"y\":[0.2099127580062836,-0.18092806357424823,0.36122113272852435,0.2308105627169356,0.043294491453548786,0.6159654101208686,-0.05254201122952799,0.06763463006746429,0.027944267048151002,0.3246258608941379,0.1977237795706613,0.4601686661882382,-0.967972692608542,0.11438225019426142,0.30240078531438574,0.6686312829609942,0.39666196858679853,0.1655380582637059,0.3650034734918404,0.03536908362692945,-1.0,-0.40525506570337966,-0.2707335162230181,-0.8429422364952357,-0.7878498067255378,-0.7716353591805605,0.738593342913711,-0.4695998173946321,-0.11499173066489632,-0.15895900530595375,0.6975275009580902],\"type\":\"scatter\"}],                        {\"annotations\":[{\"showarrow\":false,\"text\":\"Total de Conex\\u00f5es: 93\",\"x\":0.005,\"xref\":\"paper\",\"y\":0.005,\"yref\":\"paper\"}],\"hovermode\":\"closest\",\"margin\":{\"b\":0,\"l\":0,\"r\":0,\"t\":0},\"showlegend\":false,\"title\":{\"font\":{\"size\":16},\"text\":\"Grafo de Conex\\u00f5es entre Entidades\"},\"xaxis\":{\"showgrid\":false,\"zeroline\":false},\"yaxis\":{\"showgrid\":false,\"zeroline\":false},\"template\":{\"data\":{\"histogram2dcontour\":[{\"type\":\"histogram2dcontour\",\"colorbar\":{\"outlinewidth\":0,\"ticks\":\"\"},\"colorscale\":[[0.0,\"#0d0887\"],[0.1111111111111111,\"#46039f\"],[0.2222222222222222,\"#7201a8\"],[0.3333333333333333,\"#9c179e\"],[0.4444444444444444,\"#bd3786\"],[0.5555555555555556,\"#d8576b\"],[0.6666666666666666,\"#ed7953\"],[0.7777777777777778,\"#fb9f3a\"],[0.8888888888888888,\"#fdca26\"],[1.0,\"#f0f921\"]]}],\"choropleth\":[{\"type\":\"choropleth\",\"colorbar\":{\"outlinewidth\":0,\"ticks\":\"\"}}],\"histogram2d\":[{\"type\":\"histogram2d\",\"colorbar\":{\"outlinewidth\":0,\"ticks\":\"\"},\"colorscale\":[[0.0,\"#0d0887\"],[0.1111111111111111,\"#46039f\"],[0.2222222222222222,\"#7201a8\"],[0.3333333333333333,\"#9c179e\"],[0.4444444444444444,\"#bd3786\"],[0.5555555555555556,\"#d8576b\"],[0.6666666666666666,\"#ed7953\"],[0.7777777777777778,\"#fb9f3a\"],[0.8888888888888888,\"#fdca26\"],[1.0,\"#f0f921\"]]}],\"heatmap\":[{\"type\":\"heatmap\",\"colorbar\":{\"outlinewidth\":0,\"ticks\":\"\"},\"colorscale\":[[0.0,\"#0d0887\"],[0.1111111111111111,\"#46039f\"],[0.2222222222222222,\"#7201a8\"],[0.3333333333333333,\"#9c179e\"],[0.4444444444444444,\"#bd3786\"],[0.5555555555555556,\"#d8576b\"],[0.6666666666666666,\"#ed7953\"],[0.7777777777777778,\"#fb9f3a\"],[0.8888888888888888,\"#fdca26\"],[1.0,\"#f0f921\"]]}],\"heatmapgl\":[{\"type\":\"heatmapgl\",\"colorbar\":{\"outlinewidth\":0,\"ticks\":\"\"},\"colorscale\":[[0.0,\"#0d0887\"],[0.1111111111111111,\"#46039f\"],[0.2222222222222222,\"#7201a8\"],[0.3333333333333333,\"#9c179e\"],[0.4444444444444444,\"#bd3786\"],[0.5555555555555556,\"#d8576b\"],[0.6666666666666666,\"#ed7953\"],[0.7777777777777778,\"#fb9f3a\"],[0.8888888888888888,\"#fdca26\"],[1.0,\"#f0f921\"]]}],\"contourcarpet\":[{\"type\":\"contourcarpet\",\"colorbar\":{\"outlinewidth\":0,\"ticks\":\"\"}}],\"contour\":[{\"type\":\"contour\",\"colorbar\":{\"outlinewidth\":0,\"ticks\":\"\"},\"colorscale\":[[0.0,\"#0d0887\"],[0.1111111111111111,\"#46039f\"],[0.2222222222222222,\"#7201a8\"],[0.3333333333333333,\"#9c179e\"],[0.4444444444444444,\"#bd3786\"],[0.5555555555555556,\"#d8576b\"],[0.6666666666666666,\"#ed7953\"],[0.7777777777777778,\"#fb9f3a\"],[0.8888888888888888,\"#fdca26\"],[1.0,\"#f0f921\"]]}],\"surface\":[{\"type\":\"surface\",\"colorbar\":{\"outlinewidth\":0,\"ticks\":\"\"},\"colorscale\":[[0.0,\"#0d0887\"],[0.1111111111111111,\"#46039f\"],[0.2222222222222222,\"#7201a8\"],[0.3333333333333333,\"#9c179e\"],[0.4444444444444444,\"#bd3786\"],[0.5555555555555556,\"#d8576b\"],[0.6666666666666666,\"#ed7953\"],[0.7777777777777778,\"#fb9f3a\"],[0.8888888888888888,\"#fdca26\"],[1.0,\"#f0f921\"]]}],\"mesh3d\":[{\"type\":\"mesh3d\",\"colorbar\":{\"outlinewidth\":0,\"ticks\":\"\"}}],\"scatter\":[{\"fillpattern\":{\"fillmode\":\"overlay\",\"size\":10,\"solidity\":0.2},\"type\":\"scatter\"}],\"parcoords\":[{\"type\":\"parcoords\",\"line\":{\"colorbar\":{\"outlinewidth\":0,\"ticks\":\"\"}}}],\"scatterpolargl\":[{\"type\":\"scatterpolargl\",\"marker\":{\"colorbar\":{\"outlinewidth\":0,\"ticks\":\"\"}}}],\"bar\":[{\"error_x\":{\"color\":\"#2a3f5f\"},\"error_y\":{\"color\":\"#2a3f5f\"},\"marker\":{\"line\":{\"color\":\"#E5ECF6\",\"width\":0.5},\"pattern\":{\"fillmode\":\"overlay\",\"size\":10,\"solidity\":0.2}},\"type\":\"bar\"}],\"scattergeo\":[{\"type\":\"scattergeo\",\"marker\":{\"colorbar\":{\"outlinewidth\":0,\"ticks\":\"\"}}}],\"scatterpolar\":[{\"type\":\"scatterpolar\",\"marker\":{\"colorbar\":{\"outlinewidth\":0,\"ticks\":\"\"}}}],\"histogram\":[{\"marker\":{\"pattern\":{\"fillmode\":\"overlay\",\"size\":10,\"solidity\":0.2}},\"type\":\"histogram\"}],\"scattergl\":[{\"type\":\"scattergl\",\"marker\":{\"colorbar\":{\"outlinewidth\":0,\"ticks\":\"\"}}}],\"scatter3d\":[{\"type\":\"scatter3d\",\"line\":{\"colorbar\":{\"outlinewidth\":0,\"ticks\":\"\"}},\"marker\":{\"colorbar\":{\"outlinewidth\":0,\"ticks\":\"\"}}}],\"scattermapbox\":[{\"type\":\"scattermapbox\",\"marker\":{\"colorbar\":{\"outlinewidth\":0,\"ticks\":\"\"}}}],\"scatterternary\":[{\"type\":\"scatterternary\",\"marker\":{\"colorbar\":{\"outlinewidth\":0,\"ticks\":\"\"}}}],\"scattercarpet\":[{\"type\":\"scattercarpet\",\"marker\":{\"colorbar\":{\"outlinewidth\":0,\"ticks\":\"\"}}}],\"carpet\":[{\"aaxis\":{\"endlinecolor\":\"#2a3f5f\",\"gridcolor\":\"white\",\"linecolor\":\"white\",\"minorgridcolor\":\"white\",\"startlinecolor\":\"#2a3f5f\"},\"baxis\":{\"endlinecolor\":\"#2a3f5f\",\"gridcolor\":\"white\",\"linecolor\":\"white\",\"minorgridcolor\":\"white\",\"startlinecolor\":\"#2a3f5f\"},\"type\":\"carpet\"}],\"table\":[{\"cells\":{\"fill\":{\"color\":\"#EBF0F8\"},\"line\":{\"color\":\"white\"}},\"header\":{\"fill\":{\"color\":\"#C8D4E3\"},\"line\":{\"color\":\"white\"}},\"type\":\"table\"}],\"barpolar\":[{\"marker\":{\"line\":{\"color\":\"#E5ECF6\",\"width\":0.5},\"pattern\":{\"fillmode\":\"overlay\",\"size\":10,\"solidity\":0.2}},\"type\":\"barpolar\"}],\"pie\":[{\"automargin\":true,\"type\":\"pie\"}]},\"layout\":{\"autotypenumbers\":\"strict\",\"colorway\":[\"#636efa\",\"#EF553B\",\"#00cc96\",\"#ab63fa\",\"#FFA15A\",\"#19d3f3\",\"#FF6692\",\"#B6E880\",\"#FF97FF\",\"#FECB52\"],\"font\":{\"color\":\"#2a3f5f\"},\"hovermode\":\"closest\",\"hoverlabel\":{\"align\":\"left\"},\"paper_bgcolor\":\"white\",\"plot_bgcolor\":\"#E5ECF6\",\"polar\":{\"bgcolor\":\"#E5ECF6\",\"angularaxis\":{\"gridcolor\":\"white\",\"linecolor\":\"white\",\"ticks\":\"\"},\"radialaxis\":{\"gridcolor\":\"white\",\"linecolor\":\"white\",\"ticks\":\"\"}},\"ternary\":{\"bgcolor\":\"#E5ECF6\",\"aaxis\":{\"gridcolor\":\"white\",\"linecolor\":\"white\",\"ticks\":\"\"},\"baxis\":{\"gridcolor\":\"white\",\"linecolor\":\"white\",\"ticks\":\"\"},\"caxis\":{\"gridcolor\":\"white\",\"linecolor\":\"white\",\"ticks\":\"\"}},\"coloraxis\":{\"colorbar\":{\"outlinewidth\":0,\"ticks\":\"\"}},\"colorscale\":{\"sequential\":[[0.0,\"#0d0887\"],[0.1111111111111111,\"#46039f\"],[0.2222222222222222,\"#7201a8\"],[0.3333333333333333,\"#9c179e\"],[0.4444444444444444,\"#bd3786\"],[0.5555555555555556,\"#d8576b\"],[0.6666666666666666,\"#ed7953\"],[0.7777777777777778,\"#fb9f3a\"],[0.8888888888888888,\"#fdca26\"],[1.0,\"#f0f921\"]],\"sequentialminus\":[[0.0,\"#0d0887\"],[0.1111111111111111,\"#46039f\"],[0.2222222222222222,\"#7201a8\"],[0.3333333333333333,\"#9c179e\"],[0.4444444444444444,\"#bd3786\"],[0.5555555555555556,\"#d8576b\"],[0.6666666666666666,\"#ed7953\"],[0.7777777777777778,\"#fb9f3a\"],[0.8888888888888888,\"#fdca26\"],[1.0,\"#f0f921\"]],\"diverging\":[[0,\"#8e0152\"],[0.1,\"#c51b7d\"],[0.2,\"#de77ae\"],[0.3,\"#f1b6da\"],[0.4,\"#fde0ef\"],[0.5,\"#f7f7f7\"],[0.6,\"#e6f5d0\"],[0.7,\"#b8e186\"],[0.8,\"#7fbc41\"],[0.9,\"#4d9221\"],[1,\"#276419\"]]},\"xaxis\":{\"gridcolor\":\"white\",\"linecolor\":\"white\",\"ticks\":\"\",\"title\":{\"standoff\":15},\"zerolinecolor\":\"white\",\"automargin\":true,\"zerolinewidth\":2},\"yaxis\":{\"gridcolor\":\"white\",\"linecolor\":\"white\",\"ticks\":\"\",\"title\":{\"standoff\":15},\"zerolinecolor\":\"white\",\"automargin\":true,\"zerolinewidth\":2},\"scene\":{\"xaxis\":{\"backgroundcolor\":\"#E5ECF6\",\"gridcolor\":\"white\",\"linecolor\":\"white\",\"showbackground\":true,\"ticks\":\"\",\"zerolinecolor\":\"white\",\"gridwidth\":2},\"yaxis\":{\"backgroundcolor\":\"#E5ECF6\",\"gridcolor\":\"white\",\"linecolor\":\"white\",\"showbackground\":true,\"ticks\":\"\",\"zerolinecolor\":\"white\",\"gridwidth\":2},\"zaxis\":{\"backgroundcolor\":\"#E5ECF6\",\"gridcolor\":\"white\",\"linecolor\":\"white\",\"showbackground\":true,\"ticks\":\"\",\"zerolinecolor\":\"white\",\"gridwidth\":2}},\"shapedefaults\":{\"line\":{\"color\":\"#2a3f5f\"}},\"annotationdefaults\":{\"arrowcolor\":\"#2a3f5f\",\"arrowhead\":0,\"arrowwidth\":1},\"geo\":{\"bgcolor\":\"white\",\"landcolor\":\"#E5ECF6\",\"subunitcolor\":\"white\",\"showland\":true,\"showlakes\":true,\"lakecolor\":\"white\"},\"title\":{\"x\":0.05},\"mapbox\":{\"style\":\"light\"}}}},                        {\"responsive\": true}                    ).then(function(){\n",
              "                            \n",
              "var gd = document.getElementById('e558aad3-c74a-4412-ba35-8f31c1ece57b');\n",
              "var x = new MutationObserver(function (mutations, observer) {{\n",
              "        var display = window.getComputedStyle(gd).display;\n",
              "        if (!display || display === 'none') {{\n",
              "            console.log([gd, 'removed!']);\n",
              "            Plotly.purge(gd);\n",
              "            observer.disconnect();\n",
              "        }}\n",
              "}});\n",
              "\n",
              "// Listen for the removal of the full notebook cells\n",
              "var notebookContainer = gd.closest('#notebook-container');\n",
              "if (notebookContainer) {{\n",
              "    x.observe(notebookContainer, {childList: true});\n",
              "}}\n",
              "\n",
              "// Listen for the clearing of the current output cell\n",
              "var outputEl = gd.closest('.output');\n",
              "if (outputEl) {{\n",
              "    x.observe(outputEl, {childList: true});\n",
              "}}\n",
              "\n",
              "                        })                };                            </script>        </div>\n",
              "</body>\n",
              "</html>"
            ]
          },
          "metadata": {}
        }
      ]
    }
  ]
}