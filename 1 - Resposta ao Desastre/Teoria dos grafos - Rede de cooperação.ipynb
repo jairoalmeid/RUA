{
  "cells": [
    {
      "cell_type": "markdown",
      "metadata": {
        "id": "FkhPKu6_Szfs"
      },
      "source": [
        "#Teoria dos Grafos\n",
        "###Interação e rede de cooperação"
      ]
    },
    {
      "cell_type": "code",
      "execution_count": null,
      "metadata": {
        "colab": {
          "base_uri": "https://localhost:8080/"
        },
        "id": "-ADoORUoSwu3",
        "outputId": "bd1c0fa0-bc93-46e4-ba41-32b6f0cede5e"
      },
      "outputs": [],
      "source": [
        "pip install networkx plotly pandas tabulate nbformat matplotlib"
      ]
    },
    {
      "cell_type": "code",
      "execution_count": 1,
      "metadata": {
        "id": "PvG2ngI8VACZ"
      },
      "outputs": [],
      "source": [
        "import networkx as nx\n",
        "import pandas as pd\n",
        "from tabulate import tabulate\n",
        "import plotly.graph_objects as go\n",
        "import matplotlib.pyplot as plt\n",
        "\n",
        "\n",
        "# Cria um grafo direcional\n",
        "G = nx.DiGraph()\n",
        "\n",
        "#Definição de arestas (grafo direcional)\n",
        "\n",
        "edges = [\n",
        "    ('ABJICA', 'Defesa Civil Estadual'), ('ABJICA', 'Assistência Social'), ('ABJICA', 'População'),\n",
        "    ('ABJICA', 'Saúde Mental'), ('ABJICA', 'Prefeitura'), ('Cemaden', 'Defesa Civil Municipal'),\n",
        "    ('Cemaden', 'Defesa Civil Estadual'), ('Cemaden', 'Comunicação Social'),\n",
        "    ('Defesa Civil Municipal', 'Defesa Civil Estadual'), ('Defesa Civil Municipal', 'Bombeiros'),\n",
        "    ('Defesa Civil Municipal', 'Academia'), ('Defesa Civil Municipal', 'Prefeitura'),\n",
        "    ('Defesa Civil Municipal', 'Zoonoses'), ('Defesa Civil Municipal', 'CGE'),\n",
        "    ('Defesa Civil Estadual', 'Cemaden'), ('Defesa Civil Estadual', 'Defesa Civil Municipal'),\n",
        "    ('Defesa Civil Estadual', 'IPT'), ('Defesa Civil Estadual', 'Bombeiros'),\n",
        "    ('Defesa Civil Estadual', 'Assistência Social'), ('Defesa Civil Estadual', 'CCOI'),\n",
        "    ('Defesa Civil Estadual', 'Academia'), ('Defesa Civil Estadual', 'Comunicação Social'),\n",
        "    ('IPT', 'Defesa Civil Municipal'), ('IPT', 'Defesa Civil Estadual'), ('IPT', 'Bombeiros'),\n",
        "    ('Bombeiros', 'Academia'), ('Bombeiros', 'Defesa Civil Municipal'), ('Bombeiros', 'Defesa Civil Estadual'),\n",
        "    ('Bombeiros', 'Polícia Militar'), ('Bombeiros', 'Comunicação Social'), ('GCM', 'Prefeitura'),\n",
        "    ('GCM', 'População'), ('GCM', 'Academia'), ('GCM', 'Segurança pública'), ('GCM', 'Zoonoses'),\n",
        "    ('Academia', 'População'), ('Academia', 'Comunicação Social'), ('Academia', 'Assistência Social'),\n",
        "    ('Comunicação Social', 'Prefeitura'), ('Comunicação Social', 'População'), ('Comunicação Social', 'INPE'),\n",
        "    ('Comunicação Social', 'Cruz Vermelha'), ('Comunicação Social', 'Segurança pública'),\n",
        "    ('Comunicação Social', 'Saúde Mental'), ('Comunicação Social', 'Assistência Social'),\n",
        "    ('Comunicação Social', 'Bombeiros'), ('Comunicação Social', 'IPT'), ('Comunicação Social', 'Defesa Civil Estadual'),\n",
        "    ('Comunicação Social', 'Defesa Civil Municipal'), ('Comunicação Social', 'CEMADEN'),\n",
        "    ('Saúde Mental', 'Governo'), ('SUS', 'CGE'), ('SUS', 'População'), ('SUS', 'Defesa Civil Municipal'),\n",
        "    ('Cruz Vermelha', 'População'), ('Cruz Vermelha', 'Defesa Civil Municipal'), ('Cruz Vermelha', 'Defesa Civil Estadual'),\n",
        "    ('CCOI', 'Bombeiros'), ('CCOI', 'População'), ('Assistência Social', 'Assistência Social'),\n",
        "    ('Assistência Social', 'Prefeitura'), ('Defesa Civil Estadual', 'Exército'), ('Defesa Civil Estadual', 'Forças armadas'),\n",
        "    ('Defesa Civil Estadual', 'CEMADEN'), ('Defesa Civil Estadual', 'INPE'), ('Defesa Civil Estadual', 'Cruz Vermelha'),\n",
        "    ('Defesa Civil Estadual', 'Defesa Civil Municipal'), ('Defesa Civil Estadual', 'CCOI'), ('Defesa Civil Estadual', 'Segurança pública'),\n",
        "    ('Defesa Civil Estadual', 'Comunicação Social'), ('Defesa Civil Estadual', 'População'), ('Defesa Civil Estadual', 'Governador'),\n",
        "    ('Defesa Civil Municipal', 'Assistência Social'), ('Defesa Civil Municipal', 'CCOI'),\n",
        "    ('Defesa Civil Municipal', 'Bombeiros'), ('Defesa Civil Municipal', 'Saúde Mental'),\n",
        "    ('Defesa Civil Municipal', 'Segurança pública'), ('Defesa Civil Municipal', 'Cruz Vermelha'),\n",
        "    ('IPT', 'CCOI'), ('IPT', 'Academia'), ('Saúde Mental', 'Defesa Civil Municipal'), ('Saúde Mental', 'Defesa Civil Estadual'),\n",
        "    ('Saúde Mental', 'Comunicação Social'), ('Saúde Mental', 'Prefeitura'), ('Bombeiros', 'IPT'),\n",
        "    ('Bombeiros', 'Assistência Social'), ('Bombeiros', 'Segurança Pública'), ('Bombeiros', 'Prefeitura'),\n",
        "    ('SUS', 'UBS'), ('SUS', 'AMA'), ('SUS', 'Vigilância em Saúde'), ('Academia', 'Bombeiros'),\n",
        "    ('Academia', 'Defesa Civil Municipal'), ('GCM', 'Controle de Trânsito'), ('Comunicação Social', 'INPE'),\n",
        "    ('População', 'Bombeiros'), ('População', 'Saúde Mental'), ('População', 'Assistência Social')\n",
        "]\n",
        "\n",
        "G.add_edges_from(edges)"
      ]
    },
    {
      "cell_type": "markdown",
      "metadata": {
        "id": "K14BEqknVuft"
      },
      "source": [
        "Análise estatística da rede"
      ]
    },
    {
      "cell_type": "code",
      "execution_count": 2,
      "metadata": {
        "colab": {
          "base_uri": "https://localhost:8080/"
        },
        "id": "LqqGyy9mTFAG",
        "outputId": "5e0fdd43-652b-4a25-a07a-00425bff768b"
      },
      "outputs": [
        {
          "name": "stdout",
          "output_type": "stream",
          "text": [
            "Total de conexões: 93\n",
            "    Entidade                  Grau    Grau de Entrada    Grau de Saída    Centralidade de Intermediação    Centralidade de Proximidade\n",
            "--  ----------------------  ------  -----------------  ---------------  -------------------------------  -----------------------------\n",
            " 1  Defesa Civil Estadual       24                  8               16                      0.108506                         0.296491\n",
            " 7  Defesa Civil Municipal      20                  9               11                      0.0790038                        0.331373\n",
            " 9  Bombeiros                   16                  7                9                      0.0693678                        0.296491\n",
            " 8  Comunicação Social          17                  5               12                      0.0306513                        0.256061\n",
            " 4  Saúde Mental                 9                  4                5                      0.0273755                        0.256061\n",
            " 3  População                   11                  8                3                      0.0203065                        0.312963\n",
            "10  Academia                    10                  5                5                      0.0167625                        0.268254\n",
            "13  IPT                          8                  3                5                      0.00128352                       0.225333\n",
            " 2  Assistência Social          10                  8                2                      0.000957854                      0.311111\n",
            "14  CCOI                         5                  3                2                      0.000670498                      0.225333\n",
            "19  Cruz Vermelha                6                  3                3                      0.000287356                      0.216667\n",
            "23  Exército                     1                  1                0                      0                                0.19798\n",
            "24  Forças armadas               1                  1                0                      0                                0.19798\n",
            "25  Governador                   1                  1                0                      0                                0.19798\n",
            " 0  ABJICA                       5                  0                5                      0                                0\n",
            "26  Segurança Pública            1                  1                0                      0                                0.19798\n",
            "27  UBS                          1                  1                0                      0                                0.0333333\n",
            "21  Governo                      1                  1                0                      0                                0.181481\n",
            "28  AMA                          1                  1                0                      0                                0.0333333\n",
            "29  Vigilância em Saúde          1                  1                0                      0                                0.0333333\n",
            "22  SUS                          6                  0                6                      0                                0\n",
            "15  Polícia Militar              1                  1                0                      0                                0.19798\n",
            "20  CEMADEN                      2                  2                0                      0                                0.217778\n",
            "18  INPE                         2                  2                0                      0                                0.217778\n",
            "17  Segurança pública            4                  4                0                      0                                0.251282\n",
            "16  GCM                          6                  0                6                      0                                0\n",
            "12  CGE                          2                  2                0                      0                                0.217778\n",
            "11  Zoonoses                     2                  2                0                      0                                0.225287\n",
            " 6  Cemaden                      4                  1                3                      0                                0.18172\n",
            " 5  Prefeitura                   7                  7                0                      0                                0.326087\n",
            "30  Controle de Trânsito         1                  1                0                      0                                0.0333333\n"
          ]
        }
      ],
      "source": [
        "# Total de conexões\n",
        "total_conexoes = len(G.edges())\n",
        "print(f\"Total de conexões: {total_conexoes}\")\n",
        "\n",
        "# Calcula métricas de centralidade\n",
        "degree = dict(G.degree())\n",
        "in_degree = dict(G.in_degree())\n",
        "out_degree = dict(G.out_degree())\n",
        "betweenness = nx.betweenness_centrality(G)\n",
        "closeness = nx.closeness_centrality(G)\n",
        "\n",
        "# Criando um DataFrame para mostrar os resultados\n",
        "results_df = pd.DataFrame({\n",
        "    'Entidade': list(G.nodes),\n",
        "    'Grau': [degree[node] for node in G.nodes],\n",
        "    'Grau de Entrada': [in_degree[node] for node in G.nodes],\n",
        "    'Grau de Saída': [out_degree[node] for node in G.nodes],\n",
        "    'Centralidade de Intermediação': [betweenness[node] for node in G.nodes],\n",
        "    'Centralidade de Proximidade': [closeness[node] for node in G.nodes]\n",
        "})\n",
        "\n",
        "# Ordenando por Centralidade de Intermediação\n",
        "results_df.sort_values(by='Centralidade de Intermediação', ascending=False, inplace=True)\n",
        "\n",
        "# Exibindo o DataFrame em formato de tabela\n",
        "print(tabulate(results_df, headers='keys'))\n",
        "\n",
        "# Opcional: Salvar o DataFrame como arquivo CSV\n",
        "results_df.to_csv('resultados_centralidade.csv', index=False)\n"
      ]
    },
    {
      "cell_type": "markdown",
      "metadata": {
        "id": "DouSsofdVyPj"
      },
      "source": [
        "Análise gráfica da rede"
      ]
    },
    {
      "cell_type": "code",
      "execution_count": 3,
      "metadata": {
        "colab": {
          "base_uri": "https://localhost:8080/",
          "height": 542
        },
        "id": "YUvR5C5jVj23",
        "outputId": "d799d3b5-8314-4d46-d7b1-0e3dc1ecd71c"
      },
      "outputs": [
        {
          "data": {
            "application/vnd.plotly.v1+json": {
              "config": {
                "plotlyServerURL": "https://plot.ly"
              },
              "data": [
                {
                  "hoverinfo": "none",
                  "line": {
                    "color": "#888",
                    "width": 1
                  },
                  "mode": "lines",
                  "type": "scatter",
                  "x": [
                    0.21248128711762176,
                    0.0006594396377542405,
                    null,
                    0.21248128711762176,
                    0.3714395189550571,
                    null,
                    0.21248128711762176,
                    0.14549854624694256,
                    null,
                    0.21248128711762176,
                    -0.07833400821889351,
                    null,
                    0.21248128711762176,
                    0.5386343599684862,
                    null,
                    0.0006594396377542405,
                    0.050184379272182555,
                    null,
                    0.0006594396377542405,
                    0.2406951581421607,
                    null,
                    0.0006594396377542405,
                    0.10217457740003172,
                    null,
                    0.0006594396377542405,
                    0.11496528307024599,
                    null,
                    0.0006594396377542405,
                    0.3714395189550571,
                    null,
                    0.0006594396377542405,
                    0.12489506292414942,
                    null,
                    0.0006594396377542405,
                    0.1486395319831318,
                    null,
                    0.0006594396377542405,
                    -0.0973486465826879,
                    null,
                    0.0006594396377542405,
                    0.4271390300258787,
                    null,
                    0.0006594396377542405,
                    0.6396328150660845,
                    null,
                    0.0006594396377542405,
                    -0.7367100927079873,
                    null,
                    0.0006594396377542405,
                    -0.3632872931189939,
                    null,
                    0.0006594396377542405,
                    0.14855916217752244,
                    null,
                    0.0006594396377542405,
                    -0.45297215241324634,
                    null,
                    0.0006594396377542405,
                    0.14549854624694256,
                    null,
                    0.0006594396377542405,
                    0.22897252724375222,
                    null,
                    0.3714395189550571,
                    0.3714395189550571,
                    null,
                    0.3714395189550571,
                    0.5386343599684862,
                    null,
                    0.14549854624694256,
                    0.11496528307024599,
                    null,
                    0.14549854624694256,
                    -0.07833400821889351,
                    null,
                    0.14549854624694256,
                    0.3714395189550571,
                    null,
                    -0.07833400821889351,
                    -0.7552327516664017,
                    null,
                    -0.07833400821889351,
                    0.2406951581421607,
                    null,
                    -0.07833400821889351,
                    0.0006594396377542405,
                    null,
                    -0.07833400821889351,
                    -0.0973486465826879,
                    null,
                    -0.07833400821889351,
                    0.5386343599684862,
                    null,
                    0.050184379272182555,
                    0.2406951581421607,
                    null,
                    0.050184379272182555,
                    0.0006594396377542405,
                    null,
                    0.050184379272182555,
                    -0.0973486465826879,
                    null,
                    0.2406951581421607,
                    0.0006594396377542405,
                    null,
                    0.2406951581421607,
                    0.11496528307024599,
                    null,
                    0.2406951581421607,
                    0.1486395319831318,
                    null,
                    0.2406951581421607,
                    0.5386343599684862,
                    null,
                    0.2406951581421607,
                    0.815179925100935,
                    null,
                    0.2406951581421607,
                    0.7974921601647195,
                    null,
                    0.2406951581421607,
                    0.3714395189550571,
                    null,
                    0.2406951581421607,
                    0.12489506292414942,
                    null,
                    0.2406951581421607,
                    -0.07833400821889351,
                    null,
                    0.2406951581421607,
                    -0.45297215241324634,
                    null,
                    0.2406951581421607,
                    0.14855916217752244,
                    null,
                    -0.0973486465826879,
                    0.5386343599684862,
                    null,
                    -0.0973486465826879,
                    0.14549854624694256,
                    null,
                    -0.0973486465826879,
                    -0.3632872931189939,
                    null,
                    -0.0973486465826879,
                    0.14855916217752244,
                    null,
                    -0.0973486465826879,
                    -0.45297215241324634,
                    null,
                    -0.0973486465826879,
                    -0.07833400821889351,
                    null,
                    -0.0973486465826879,
                    0.3714395189550571,
                    null,
                    -0.0973486465826879,
                    0.11496528307024599,
                    null,
                    -0.0973486465826879,
                    0.10217457740003172,
                    null,
                    -0.0973486465826879,
                    0.0006594396377542405,
                    null,
                    -0.0973486465826879,
                    0.2406951581421607,
                    null,
                    -0.0973486465826879,
                    -0.7367100927079873,
                    null,
                    0.11496528307024599,
                    0.1486395319831318,
                    null,
                    0.11496528307024599,
                    0.2406951581421607,
                    null,
                    0.11496528307024599,
                    0.0006594396377542405,
                    null,
                    0.11496528307024599,
                    -0.1092596964341708,
                    null,
                    0.11496528307024599,
                    -0.0973486465826879,
                    null,
                    0.11496528307024599,
                    0.10217457740003172,
                    null,
                    0.11496528307024599,
                    0.3714395189550571,
                    null,
                    0.11496528307024599,
                    -0.043089162489462075,
                    null,
                    0.11496528307024599,
                    0.5386343599684862,
                    null,
                    0.1486395319831318,
                    0.14549854624694256,
                    null,
                    0.1486395319831318,
                    -0.0973486465826879,
                    null,
                    0.1486395319831318,
                    0.3714395189550571,
                    null,
                    0.1486395319831318,
                    0.11496528307024599,
                    null,
                    0.1486395319831318,
                    0.2406951581421607,
                    null,
                    0.10217457740003172,
                    0.2406951581421607,
                    null,
                    0.10217457740003172,
                    0.0006594396377542405,
                    null,
                    0.10217457740003172,
                    0.11496528307024599,
                    null,
                    0.10217457740003172,
                    0.12489506292414942,
                    null,
                    0.10217457740003172,
                    0.1486395319831318,
                    null,
                    0.12489506292414942,
                    0.11496528307024599,
                    null,
                    0.12489506292414942,
                    0.14549854624694256,
                    null,
                    -0.022194652351278873,
                    0.5386343599684862,
                    null,
                    -0.022194652351278873,
                    0.14549854624694256,
                    null,
                    -0.022194652351278873,
                    0.1486395319831318,
                    null,
                    -0.022194652351278873,
                    -0.45297215241324634,
                    null,
                    -0.022194652351278873,
                    0.815179925100935,
                    null,
                    -0.022194652351278873,
                    -0.9331805657653558,
                    null,
                    0.14855916217752244,
                    0.14549854624694256,
                    null,
                    0.14855916217752244,
                    0.2406951581421607,
                    null,
                    0.14855916217752244,
                    0.0006594396377542405,
                    null,
                    -0.1140235162963863,
                    0.7974921601647195,
                    null,
                    -0.1140235162963863,
                    0.14549854624694256,
                    null,
                    -0.1140235162963863,
                    0.2406951581421607,
                    null,
                    -0.1140235162963863,
                    0.4321555267381032,
                    null,
                    -0.1140235162963863,
                    -1,
                    null,
                    -0.1140235162963863,
                    -0.8337657531898935,
                    null
                  ],
                  "y": [
                    0.19917414426067928,
                    -0.07879784803950031,
                    null,
                    0.19917414426067928,
                    0.419273729536178,
                    null,
                    0.19917414426067928,
                    0.16912271851818392,
                    null,
                    0.19917414426067928,
                    -0.08067426948689263,
                    null,
                    0.19917414426067928,
                    0.5213836424514531,
                    null,
                    -0.07879784803950031,
                    0.09245431357411582,
                    null,
                    -0.07879784803950031,
                    0.20145286507409504,
                    null,
                    -0.07879784803950031,
                    0.1102146312401261,
                    null,
                    -0.07879784803950031,
                    0.09884302968432,
                    null,
                    -0.07879784803950031,
                    0.419273729536178,
                    null,
                    -0.07879784803950031,
                    0.06565731366584972,
                    null,
                    -0.07879784803950031,
                    0.246207380659497,
                    null,
                    -0.07879784803950031,
                    0.15181508738141922,
                    null,
                    -0.07879784803950031,
                    -0.7685207664145861,
                    null,
                    -0.07879784803950031,
                    -0.5650738468852432,
                    null,
                    -0.07879784803950031,
                    0.6520883576830678,
                    null,
                    -0.07879784803950031,
                    -0.9186340006530248,
                    null,
                    -0.07879784803950031,
                    0.05379378761644941,
                    null,
                    -0.07879784803950031,
                    0.8069499970728842,
                    null,
                    -0.07879784803950031,
                    0.16912271851818392,
                    null,
                    -0.07879784803950031,
                    -0.9165292660861392,
                    null,
                    0.419273729536178,
                    0.419273729536178,
                    null,
                    0.419273729536178,
                    0.5213836424514531,
                    null,
                    0.16912271851818392,
                    0.09884302968432,
                    null,
                    0.16912271851818392,
                    -0.08067426948689263,
                    null,
                    0.16912271851818392,
                    0.419273729536178,
                    null,
                    -0.08067426948689263,
                    -0.7823643591930087,
                    null,
                    -0.08067426948689263,
                    0.20145286507409504,
                    null,
                    -0.08067426948689263,
                    -0.07879784803950031,
                    null,
                    -0.08067426948689263,
                    0.15181508738141922,
                    null,
                    -0.08067426948689263,
                    0.5213836424514531,
                    null,
                    0.09245431357411582,
                    0.20145286507409504,
                    null,
                    0.09245431357411582,
                    -0.07879784803950031,
                    null,
                    0.09245431357411582,
                    0.15181508738141922,
                    null,
                    0.20145286507409504,
                    -0.07879784803950031,
                    null,
                    0.20145286507409504,
                    0.09884302968432,
                    null,
                    0.20145286507409504,
                    0.246207380659497,
                    null,
                    0.20145286507409504,
                    0.5213836424514531,
                    null,
                    0.20145286507409504,
                    -0.2770210783544557,
                    null,
                    0.20145286507409504,
                    0.015393356968224192,
                    null,
                    0.20145286507409504,
                    0.419273729536178,
                    null,
                    0.20145286507409504,
                    0.06565731366584972,
                    null,
                    0.20145286507409504,
                    -0.08067426948689263,
                    null,
                    0.20145286507409504,
                    0.8069499970728842,
                    null,
                    0.20145286507409504,
                    0.05379378761644941,
                    null,
                    0.15181508738141922,
                    0.5213836424514531,
                    null,
                    0.15181508738141922,
                    0.16912271851818392,
                    null,
                    0.15181508738141922,
                    -0.9186340006530248,
                    null,
                    0.15181508738141922,
                    0.05379378761644941,
                    null,
                    0.15181508738141922,
                    0.8069499970728842,
                    null,
                    0.15181508738141922,
                    -0.08067426948689263,
                    null,
                    0.15181508738141922,
                    0.419273729536178,
                    null,
                    0.15181508738141922,
                    0.09884302968432,
                    null,
                    0.15181508738141922,
                    0.1102146312401261,
                    null,
                    0.15181508738141922,
                    -0.07879784803950031,
                    null,
                    0.15181508738141922,
                    0.20145286507409504,
                    null,
                    0.15181508738141922,
                    0.6520883576830678,
                    null,
                    0.09884302968432,
                    0.246207380659497,
                    null,
                    0.09884302968432,
                    0.20145286507409504,
                    null,
                    0.09884302968432,
                    -0.07879784803950031,
                    null,
                    0.09884302968432,
                    0.8171261025569194,
                    null,
                    0.09884302968432,
                    0.15181508738141922,
                    null,
                    0.09884302968432,
                    0.1102146312401261,
                    null,
                    0.09884302968432,
                    0.419273729536178,
                    null,
                    0.09884302968432,
                    -0.8623916371290354,
                    null,
                    0.09884302968432,
                    0.5213836424514531,
                    null,
                    0.246207380659497,
                    0.16912271851818392,
                    null,
                    0.246207380659497,
                    0.15181508738141922,
                    null,
                    0.246207380659497,
                    0.419273729536178,
                    null,
                    0.246207380659497,
                    0.09884302968432,
                    null,
                    0.246207380659497,
                    0.20145286507409504,
                    null,
                    0.1102146312401261,
                    0.20145286507409504,
                    null,
                    0.1102146312401261,
                    -0.07879784803950031,
                    null,
                    0.1102146312401261,
                    0.09884302968432,
                    null,
                    0.1102146312401261,
                    0.06565731366584972,
                    null,
                    0.1102146312401261,
                    0.246207380659497,
                    null,
                    0.06565731366584972,
                    0.09884302968432,
                    null,
                    0.06565731366584972,
                    0.16912271851818392,
                    null,
                    0.16283931838356958,
                    0.5213836424514531,
                    null,
                    0.16283931838356958,
                    0.16912271851818392,
                    null,
                    0.16283931838356958,
                    0.246207380659497,
                    null,
                    0.16283931838356958,
                    0.8069499970728842,
                    null,
                    0.16283931838356958,
                    -0.2770210783544557,
                    null,
                    0.16283931838356958,
                    -0.187582427750678,
                    null,
                    0.05379378761644941,
                    0.16912271851818392,
                    null,
                    0.05379378761644941,
                    0.20145286507409504,
                    null,
                    0.05379378761644941,
                    -0.07879784803950031,
                    null,
                    0.1261551280040004,
                    0.015393356968224192,
                    null,
                    0.1261551280040004,
                    0.16912271851818392,
                    null,
                    0.1261551280040004,
                    0.20145286507409504,
                    null,
                    0.1261551280040004,
                    0.7893202015770575,
                    null,
                    0.1261551280040004,
                    0.25011200281310114,
                    null,
                    0.1261551280040004,
                    -0.5117876087286265,
                    null
                  ]
                },
                {
                  "hoverinfo": "text",
                  "marker": {
                    "colorbar": {
                      "thickness": 15,
                      "title": {
                        "side": "right",
                        "text": "Centralidade"
                      },
                      "xanchor": "left"
                    },
                    "colorscale": [
                      [
                        0,
                        "rgb(255,255,217)"
                      ],
                      [
                        0.125,
                        "rgb(237,248,177)"
                      ],
                      [
                        0.25,
                        "rgb(199,233,180)"
                      ],
                      [
                        0.375,
                        "rgb(127,205,187)"
                      ],
                      [
                        0.5,
                        "rgb(65,182,196)"
                      ],
                      [
                        0.625,
                        "rgb(29,145,192)"
                      ],
                      [
                        0.75,
                        "rgb(34,94,168)"
                      ],
                      [
                        0.875,
                        "rgb(37,52,148)"
                      ],
                      [
                        1,
                        "rgb(8,29,88)"
                      ]
                    ],
                    "showscale": true,
                    "size": 20
                  },
                  "mode": "markers",
                  "text": [
                    "ABJICA<br>Grau: 5<br>Grau de Entrada: 0<br>Grau de Saída: 5",
                    "Defesa Civil Estadual<br>Grau: 24<br>Grau de Entrada: 8<br>Grau de Saída: 16",
                    "Assistência Social<br>Grau: 10<br>Grau de Entrada: 8<br>Grau de Saída: 2",
                    "População<br>Grau: 11<br>Grau de Entrada: 8<br>Grau de Saída: 3",
                    "Saúde Mental<br>Grau: 9<br>Grau de Entrada: 4<br>Grau de Saída: 5",
                    "Prefeitura<br>Grau: 7<br>Grau de Entrada: 7<br>Grau de Saída: 0",
                    "Cemaden<br>Grau: 4<br>Grau de Entrada: 1<br>Grau de Saída: 3",
                    "Defesa Civil Municipal<br>Grau: 20<br>Grau de Entrada: 9<br>Grau de Saída: 11",
                    "Comunicação Social<br>Grau: 17<br>Grau de Entrada: 5<br>Grau de Saída: 12",
                    "Bombeiros<br>Grau: 16<br>Grau de Entrada: 7<br>Grau de Saída: 9",
                    "Academia<br>Grau: 10<br>Grau de Entrada: 5<br>Grau de Saída: 5",
                    "Zoonoses<br>Grau: 2<br>Grau de Entrada: 2<br>Grau de Saída: 0",
                    "CGE<br>Grau: 2<br>Grau de Entrada: 2<br>Grau de Saída: 0",
                    "IPT<br>Grau: 8<br>Grau de Entrada: 3<br>Grau de Saída: 5",
                    "CCOI<br>Grau: 5<br>Grau de Entrada: 3<br>Grau de Saída: 2",
                    "Polícia Militar<br>Grau: 1<br>Grau de Entrada: 1<br>Grau de Saída: 0",
                    "GCM<br>Grau: 6<br>Grau de Entrada: 0<br>Grau de Saída: 6",
                    "Segurança pública<br>Grau: 4<br>Grau de Entrada: 4<br>Grau de Saída: 0",
                    "INPE<br>Grau: 2<br>Grau de Entrada: 2<br>Grau de Saída: 0",
                    "Cruz Vermelha<br>Grau: 6<br>Grau de Entrada: 3<br>Grau de Saída: 3",
                    "CEMADEN<br>Grau: 2<br>Grau de Entrada: 2<br>Grau de Saída: 0",
                    "Governo<br>Grau: 1<br>Grau de Entrada: 1<br>Grau de Saída: 0",
                    "SUS<br>Grau: 6<br>Grau de Entrada: 0<br>Grau de Saída: 6",
                    "Exército<br>Grau: 1<br>Grau de Entrada: 1<br>Grau de Saída: 0",
                    "Forças armadas<br>Grau: 1<br>Grau de Entrada: 1<br>Grau de Saída: 0",
                    "Governador<br>Grau: 1<br>Grau de Entrada: 1<br>Grau de Saída: 0",
                    "Segurança Pública<br>Grau: 1<br>Grau de Entrada: 1<br>Grau de Saída: 0",
                    "UBS<br>Grau: 1<br>Grau de Entrada: 1<br>Grau de Saída: 0",
                    "AMA<br>Grau: 1<br>Grau de Entrada: 1<br>Grau de Saída: 0",
                    "Vigilância em Saúde<br>Grau: 1<br>Grau de Entrada: 1<br>Grau de Saída: 0",
                    "Controle de Trânsito<br>Grau: 1<br>Grau de Entrada: 1<br>Grau de Saída: 0"
                  ],
                  "type": "scatter",
                  "x": [
                    0.21248128711762176,
                    0.0006594396377542405,
                    0.3714395189550571,
                    0.14549854624694256,
                    -0.07833400821889351,
                    0.5386343599684862,
                    0.050184379272182555,
                    0.2406951581421607,
                    -0.0973486465826879,
                    0.11496528307024599,
                    0.1486395319831318,
                    0.815179925100935,
                    0.7974921601647195,
                    0.10217457740003172,
                    0.12489506292414942,
                    -0.1092596964341708,
                    -0.022194652351278873,
                    -0.45297215241324634,
                    -0.3632872931189939,
                    0.14855916217752244,
                    -0.7367100927079873,
                    -0.7552327516664017,
                    -0.1140235162963863,
                    0.4271390300258787,
                    0.6396328150660845,
                    0.22897252724375222,
                    -0.043089162489462075,
                    0.4321555267381032,
                    -1,
                    -0.8337657531898935,
                    -0.9331805657653558
                  ],
                  "y": [
                    0.19917414426067928,
                    -0.07879784803950031,
                    0.419273729536178,
                    0.16912271851818392,
                    -0.08067426948689263,
                    0.5213836424514531,
                    0.09245431357411582,
                    0.20145286507409504,
                    0.15181508738141922,
                    0.09884302968432,
                    0.246207380659497,
                    -0.2770210783544557,
                    0.015393356968224192,
                    0.1102146312401261,
                    0.06565731366584972,
                    0.8171261025569194,
                    0.16283931838356958,
                    0.8069499970728842,
                    -0.9186340006530248,
                    0.05379378761644941,
                    0.6520883576830678,
                    -0.7823643591930087,
                    0.1261551280040004,
                    -0.7685207664145861,
                    -0.5650738468852432,
                    -0.9165292660861392,
                    -0.8623916371290354,
                    0.7893202015770575,
                    0.25011200281310114,
                    -0.5117876087286265,
                    -0.187582427750678
                  ]
                }
              ],
              "layout": {
                "annotations": [
                  {
                    "showarrow": false,
                    "text": "Total de Conexões: 93",
                    "x": 0.005,
                    "xref": "paper",
                    "y": 0.005,
                    "yref": "paper"
                  }
                ],
                "hovermode": "closest",
                "margin": {
                  "b": 0,
                  "l": 0,
                  "r": 0,
                  "t": 0
                },
                "showlegend": false,
                "template": {
                  "data": {
                    "bar": [
                      {
                        "error_x": {
                          "color": "#2a3f5f"
                        },
                        "error_y": {
                          "color": "#2a3f5f"
                        },
                        "marker": {
                          "line": {
                            "color": "#E5ECF6",
                            "width": 0.5
                          },
                          "pattern": {
                            "fillmode": "overlay",
                            "size": 10,
                            "solidity": 0.2
                          }
                        },
                        "type": "bar"
                      }
                    ],
                    "barpolar": [
                      {
                        "marker": {
                          "line": {
                            "color": "#E5ECF6",
                            "width": 0.5
                          },
                          "pattern": {
                            "fillmode": "overlay",
                            "size": 10,
                            "solidity": 0.2
                          }
                        },
                        "type": "barpolar"
                      }
                    ],
                    "carpet": [
                      {
                        "aaxis": {
                          "endlinecolor": "#2a3f5f",
                          "gridcolor": "white",
                          "linecolor": "white",
                          "minorgridcolor": "white",
                          "startlinecolor": "#2a3f5f"
                        },
                        "baxis": {
                          "endlinecolor": "#2a3f5f",
                          "gridcolor": "white",
                          "linecolor": "white",
                          "minorgridcolor": "white",
                          "startlinecolor": "#2a3f5f"
                        },
                        "type": "carpet"
                      }
                    ],
                    "choropleth": [
                      {
                        "colorbar": {
                          "outlinewidth": 0,
                          "ticks": ""
                        },
                        "type": "choropleth"
                      }
                    ],
                    "contour": [
                      {
                        "colorbar": {
                          "outlinewidth": 0,
                          "ticks": ""
                        },
                        "colorscale": [
                          [
                            0,
                            "#0d0887"
                          ],
                          [
                            0.1111111111111111,
                            "#46039f"
                          ],
                          [
                            0.2222222222222222,
                            "#7201a8"
                          ],
                          [
                            0.3333333333333333,
                            "#9c179e"
                          ],
                          [
                            0.4444444444444444,
                            "#bd3786"
                          ],
                          [
                            0.5555555555555556,
                            "#d8576b"
                          ],
                          [
                            0.6666666666666666,
                            "#ed7953"
                          ],
                          [
                            0.7777777777777778,
                            "#fb9f3a"
                          ],
                          [
                            0.8888888888888888,
                            "#fdca26"
                          ],
                          [
                            1,
                            "#f0f921"
                          ]
                        ],
                        "type": "contour"
                      }
                    ],
                    "contourcarpet": [
                      {
                        "colorbar": {
                          "outlinewidth": 0,
                          "ticks": ""
                        },
                        "type": "contourcarpet"
                      }
                    ],
                    "heatmap": [
                      {
                        "colorbar": {
                          "outlinewidth": 0,
                          "ticks": ""
                        },
                        "colorscale": [
                          [
                            0,
                            "#0d0887"
                          ],
                          [
                            0.1111111111111111,
                            "#46039f"
                          ],
                          [
                            0.2222222222222222,
                            "#7201a8"
                          ],
                          [
                            0.3333333333333333,
                            "#9c179e"
                          ],
                          [
                            0.4444444444444444,
                            "#bd3786"
                          ],
                          [
                            0.5555555555555556,
                            "#d8576b"
                          ],
                          [
                            0.6666666666666666,
                            "#ed7953"
                          ],
                          [
                            0.7777777777777778,
                            "#fb9f3a"
                          ],
                          [
                            0.8888888888888888,
                            "#fdca26"
                          ],
                          [
                            1,
                            "#f0f921"
                          ]
                        ],
                        "type": "heatmap"
                      }
                    ],
                    "heatmapgl": [
                      {
                        "colorbar": {
                          "outlinewidth": 0,
                          "ticks": ""
                        },
                        "colorscale": [
                          [
                            0,
                            "#0d0887"
                          ],
                          [
                            0.1111111111111111,
                            "#46039f"
                          ],
                          [
                            0.2222222222222222,
                            "#7201a8"
                          ],
                          [
                            0.3333333333333333,
                            "#9c179e"
                          ],
                          [
                            0.4444444444444444,
                            "#bd3786"
                          ],
                          [
                            0.5555555555555556,
                            "#d8576b"
                          ],
                          [
                            0.6666666666666666,
                            "#ed7953"
                          ],
                          [
                            0.7777777777777778,
                            "#fb9f3a"
                          ],
                          [
                            0.8888888888888888,
                            "#fdca26"
                          ],
                          [
                            1,
                            "#f0f921"
                          ]
                        ],
                        "type": "heatmapgl"
                      }
                    ],
                    "histogram": [
                      {
                        "marker": {
                          "pattern": {
                            "fillmode": "overlay",
                            "size": 10,
                            "solidity": 0.2
                          }
                        },
                        "type": "histogram"
                      }
                    ],
                    "histogram2d": [
                      {
                        "colorbar": {
                          "outlinewidth": 0,
                          "ticks": ""
                        },
                        "colorscale": [
                          [
                            0,
                            "#0d0887"
                          ],
                          [
                            0.1111111111111111,
                            "#46039f"
                          ],
                          [
                            0.2222222222222222,
                            "#7201a8"
                          ],
                          [
                            0.3333333333333333,
                            "#9c179e"
                          ],
                          [
                            0.4444444444444444,
                            "#bd3786"
                          ],
                          [
                            0.5555555555555556,
                            "#d8576b"
                          ],
                          [
                            0.6666666666666666,
                            "#ed7953"
                          ],
                          [
                            0.7777777777777778,
                            "#fb9f3a"
                          ],
                          [
                            0.8888888888888888,
                            "#fdca26"
                          ],
                          [
                            1,
                            "#f0f921"
                          ]
                        ],
                        "type": "histogram2d"
                      }
                    ],
                    "histogram2dcontour": [
                      {
                        "colorbar": {
                          "outlinewidth": 0,
                          "ticks": ""
                        },
                        "colorscale": [
                          [
                            0,
                            "#0d0887"
                          ],
                          [
                            0.1111111111111111,
                            "#46039f"
                          ],
                          [
                            0.2222222222222222,
                            "#7201a8"
                          ],
                          [
                            0.3333333333333333,
                            "#9c179e"
                          ],
                          [
                            0.4444444444444444,
                            "#bd3786"
                          ],
                          [
                            0.5555555555555556,
                            "#d8576b"
                          ],
                          [
                            0.6666666666666666,
                            "#ed7953"
                          ],
                          [
                            0.7777777777777778,
                            "#fb9f3a"
                          ],
                          [
                            0.8888888888888888,
                            "#fdca26"
                          ],
                          [
                            1,
                            "#f0f921"
                          ]
                        ],
                        "type": "histogram2dcontour"
                      }
                    ],
                    "mesh3d": [
                      {
                        "colorbar": {
                          "outlinewidth": 0,
                          "ticks": ""
                        },
                        "type": "mesh3d"
                      }
                    ],
                    "parcoords": [
                      {
                        "line": {
                          "colorbar": {
                            "outlinewidth": 0,
                            "ticks": ""
                          }
                        },
                        "type": "parcoords"
                      }
                    ],
                    "pie": [
                      {
                        "automargin": true,
                        "type": "pie"
                      }
                    ],
                    "scatter": [
                      {
                        "fillpattern": {
                          "fillmode": "overlay",
                          "size": 10,
                          "solidity": 0.2
                        },
                        "type": "scatter"
                      }
                    ],
                    "scatter3d": [
                      {
                        "line": {
                          "colorbar": {
                            "outlinewidth": 0,
                            "ticks": ""
                          }
                        },
                        "marker": {
                          "colorbar": {
                            "outlinewidth": 0,
                            "ticks": ""
                          }
                        },
                        "type": "scatter3d"
                      }
                    ],
                    "scattercarpet": [
                      {
                        "marker": {
                          "colorbar": {
                            "outlinewidth": 0,
                            "ticks": ""
                          }
                        },
                        "type": "scattercarpet"
                      }
                    ],
                    "scattergeo": [
                      {
                        "marker": {
                          "colorbar": {
                            "outlinewidth": 0,
                            "ticks": ""
                          }
                        },
                        "type": "scattergeo"
                      }
                    ],
                    "scattergl": [
                      {
                        "marker": {
                          "colorbar": {
                            "outlinewidth": 0,
                            "ticks": ""
                          }
                        },
                        "type": "scattergl"
                      }
                    ],
                    "scattermapbox": [
                      {
                        "marker": {
                          "colorbar": {
                            "outlinewidth": 0,
                            "ticks": ""
                          }
                        },
                        "type": "scattermapbox"
                      }
                    ],
                    "scatterpolar": [
                      {
                        "marker": {
                          "colorbar": {
                            "outlinewidth": 0,
                            "ticks": ""
                          }
                        },
                        "type": "scatterpolar"
                      }
                    ],
                    "scatterpolargl": [
                      {
                        "marker": {
                          "colorbar": {
                            "outlinewidth": 0,
                            "ticks": ""
                          }
                        },
                        "type": "scatterpolargl"
                      }
                    ],
                    "scatterternary": [
                      {
                        "marker": {
                          "colorbar": {
                            "outlinewidth": 0,
                            "ticks": ""
                          }
                        },
                        "type": "scatterternary"
                      }
                    ],
                    "surface": [
                      {
                        "colorbar": {
                          "outlinewidth": 0,
                          "ticks": ""
                        },
                        "colorscale": [
                          [
                            0,
                            "#0d0887"
                          ],
                          [
                            0.1111111111111111,
                            "#46039f"
                          ],
                          [
                            0.2222222222222222,
                            "#7201a8"
                          ],
                          [
                            0.3333333333333333,
                            "#9c179e"
                          ],
                          [
                            0.4444444444444444,
                            "#bd3786"
                          ],
                          [
                            0.5555555555555556,
                            "#d8576b"
                          ],
                          [
                            0.6666666666666666,
                            "#ed7953"
                          ],
                          [
                            0.7777777777777778,
                            "#fb9f3a"
                          ],
                          [
                            0.8888888888888888,
                            "#fdca26"
                          ],
                          [
                            1,
                            "#f0f921"
                          ]
                        ],
                        "type": "surface"
                      }
                    ],
                    "table": [
                      {
                        "cells": {
                          "fill": {
                            "color": "#EBF0F8"
                          },
                          "line": {
                            "color": "white"
                          }
                        },
                        "header": {
                          "fill": {
                            "color": "#C8D4E3"
                          },
                          "line": {
                            "color": "white"
                          }
                        },
                        "type": "table"
                      }
                    ]
                  },
                  "layout": {
                    "annotationdefaults": {
                      "arrowcolor": "#2a3f5f",
                      "arrowhead": 0,
                      "arrowwidth": 1
                    },
                    "autotypenumbers": "strict",
                    "coloraxis": {
                      "colorbar": {
                        "outlinewidth": 0,
                        "ticks": ""
                      }
                    },
                    "colorscale": {
                      "diverging": [
                        [
                          0,
                          "#8e0152"
                        ],
                        [
                          0.1,
                          "#c51b7d"
                        ],
                        [
                          0.2,
                          "#de77ae"
                        ],
                        [
                          0.3,
                          "#f1b6da"
                        ],
                        [
                          0.4,
                          "#fde0ef"
                        ],
                        [
                          0.5,
                          "#f7f7f7"
                        ],
                        [
                          0.6,
                          "#e6f5d0"
                        ],
                        [
                          0.7,
                          "#b8e186"
                        ],
                        [
                          0.8,
                          "#7fbc41"
                        ],
                        [
                          0.9,
                          "#4d9221"
                        ],
                        [
                          1,
                          "#276419"
                        ]
                      ],
                      "sequential": [
                        [
                          0,
                          "#0d0887"
                        ],
                        [
                          0.1111111111111111,
                          "#46039f"
                        ],
                        [
                          0.2222222222222222,
                          "#7201a8"
                        ],
                        [
                          0.3333333333333333,
                          "#9c179e"
                        ],
                        [
                          0.4444444444444444,
                          "#bd3786"
                        ],
                        [
                          0.5555555555555556,
                          "#d8576b"
                        ],
                        [
                          0.6666666666666666,
                          "#ed7953"
                        ],
                        [
                          0.7777777777777778,
                          "#fb9f3a"
                        ],
                        [
                          0.8888888888888888,
                          "#fdca26"
                        ],
                        [
                          1,
                          "#f0f921"
                        ]
                      ],
                      "sequentialminus": [
                        [
                          0,
                          "#0d0887"
                        ],
                        [
                          0.1111111111111111,
                          "#46039f"
                        ],
                        [
                          0.2222222222222222,
                          "#7201a8"
                        ],
                        [
                          0.3333333333333333,
                          "#9c179e"
                        ],
                        [
                          0.4444444444444444,
                          "#bd3786"
                        ],
                        [
                          0.5555555555555556,
                          "#d8576b"
                        ],
                        [
                          0.6666666666666666,
                          "#ed7953"
                        ],
                        [
                          0.7777777777777778,
                          "#fb9f3a"
                        ],
                        [
                          0.8888888888888888,
                          "#fdca26"
                        ],
                        [
                          1,
                          "#f0f921"
                        ]
                      ]
                    },
                    "colorway": [
                      "#636efa",
                      "#EF553B",
                      "#00cc96",
                      "#ab63fa",
                      "#FFA15A",
                      "#19d3f3",
                      "#FF6692",
                      "#B6E880",
                      "#FF97FF",
                      "#FECB52"
                    ],
                    "font": {
                      "color": "#2a3f5f"
                    },
                    "geo": {
                      "bgcolor": "white",
                      "lakecolor": "white",
                      "landcolor": "#E5ECF6",
                      "showlakes": true,
                      "showland": true,
                      "subunitcolor": "white"
                    },
                    "hoverlabel": {
                      "align": "left"
                    },
                    "hovermode": "closest",
                    "mapbox": {
                      "style": "light"
                    },
                    "paper_bgcolor": "white",
                    "plot_bgcolor": "#E5ECF6",
                    "polar": {
                      "angularaxis": {
                        "gridcolor": "white",
                        "linecolor": "white",
                        "ticks": ""
                      },
                      "bgcolor": "#E5ECF6",
                      "radialaxis": {
                        "gridcolor": "white",
                        "linecolor": "white",
                        "ticks": ""
                      }
                    },
                    "scene": {
                      "xaxis": {
                        "backgroundcolor": "#E5ECF6",
                        "gridcolor": "white",
                        "gridwidth": 2,
                        "linecolor": "white",
                        "showbackground": true,
                        "ticks": "",
                        "zerolinecolor": "white"
                      },
                      "yaxis": {
                        "backgroundcolor": "#E5ECF6",
                        "gridcolor": "white",
                        "gridwidth": 2,
                        "linecolor": "white",
                        "showbackground": true,
                        "ticks": "",
                        "zerolinecolor": "white"
                      },
                      "zaxis": {
                        "backgroundcolor": "#E5ECF6",
                        "gridcolor": "white",
                        "gridwidth": 2,
                        "linecolor": "white",
                        "showbackground": true,
                        "ticks": "",
                        "zerolinecolor": "white"
                      }
                    },
                    "shapedefaults": {
                      "line": {
                        "color": "#2a3f5f"
                      }
                    },
                    "ternary": {
                      "aaxis": {
                        "gridcolor": "white",
                        "linecolor": "white",
                        "ticks": ""
                      },
                      "baxis": {
                        "gridcolor": "white",
                        "linecolor": "white",
                        "ticks": ""
                      },
                      "bgcolor": "#E5ECF6",
                      "caxis": {
                        "gridcolor": "white",
                        "linecolor": "white",
                        "ticks": ""
                      }
                    },
                    "title": {
                      "x": 0.05
                    },
                    "xaxis": {
                      "automargin": true,
                      "gridcolor": "white",
                      "linecolor": "white",
                      "ticks": "",
                      "title": {
                        "standoff": 15
                      },
                      "zerolinecolor": "white",
                      "zerolinewidth": 2
                    },
                    "yaxis": {
                      "automargin": true,
                      "gridcolor": "white",
                      "linecolor": "white",
                      "ticks": "",
                      "title": {
                        "standoff": 15
                      },
                      "zerolinecolor": "white",
                      "zerolinewidth": 2
                    }
                  }
                },
                "title": {
                  "font": {
                    "size": 16
                  },
                  "text": "Grafo de Conexões entre Entidades"
                },
                "xaxis": {
                  "showgrid": false,
                  "zeroline": false
                },
                "yaxis": {
                  "showgrid": false,
                  "zeroline": false
                }
              }
            }
          },
          "metadata": {},
          "output_type": "display_data"
        },
        {
          "data": {
            "image/png": "[encoded data removed]",
            "text/plain": [
              "<Figure size 1200x1200 with 1 Axes>"
            ]
          },
          "metadata": {},
          "output_type": "display_data"
        }
      ],
      "source": [
        "# Gerando as posições dos nós usando o layout spring\n",
        "pos = nx.spring_layout(G)\n",
        "\n",
        "# Criando o grafo interativo com Plotly\n",
        "edge_x = []\n",
        "edge_y = []\n",
        "for edge in G.edges():\n",
        "    x0, y0 = pos[edge[0]]\n",
        "    x1, y1 = pos[edge[1]]\n",
        "    edge_x.append(x0)\n",
        "    edge_x.append(x1)\n",
        "    edge_x.append(None)\n",
        "    edge_y.append(y0)\n",
        "    edge_y.append(y1)\n",
        "    edge_y.append(None)\n",
        "\n",
        "edge_trace = go.Scatter(\n",
        "    x=edge_x, y=edge_y,\n",
        "    line=dict(width=1, color='#888'),\n",
        "    hoverinfo='none',\n",
        "    mode='lines')\n",
        "\n",
        "node_x = []\n",
        "node_y = []\n",
        "for node in G.nodes():\n",
        "    x, y = pos[node]\n",
        "    node_x.append(x)\n",
        "    node_y.append(y)\n",
        "\n",
        "node_trace = go.Scatter(\n",
        "    x=node_x, y=node_y,\n",
        "    mode='markers',\n",
        "    hoverinfo='text',\n",
        "    marker=dict(\n",
        "        showscale=True,\n",
        "        colorscale='YlGnBu',\n",
        "        size=20,\n",
        "        colorbar=dict(\n",
        "            thickness=15,\n",
        "            title='Centralidade',\n",
        "            xanchor='left',\n",
        "            titleside='right'\n",
        "        )\n",
        "    )\n",
        ")\n",
        "\n",
        "# Adicionando as informações de hover com base nos dados do DataFrame\n",
        "node_text = []\n",
        "for node in G.nodes():\n",
        "    node_info = f\"{node}<br>Grau: {degree[node]}<br>Grau de Entrada: {in_degree[node]}<br>Grau de Saída: {out_degree[node]}\"\n",
        "    node_text.append(node_info)\n",
        "\n",
        "node_trace.text = node_text\n",
        "\n",
        "# Criando a figura interativa\n",
        "fig = go.Figure(data=[edge_trace, node_trace],\n",
        "                layout=go.Layout(\n",
        "                    title='Grafo de Conexões entre Entidades',\n",
        "                    titlefont_size=16,\n",
        "                    showlegend=False,\n",
        "                    hovermode='closest',\n",
        "                    margin=dict(b=0, l=0, r=0, t=0),\n",
        "                    annotations=[dict(\n",
        "                        text=f\"Total de Conexões: {total_conexoes}\",\n",
        "                        showarrow=False,\n",
        "                        xref=\"paper\", yref=\"paper\",\n",
        "                        x=0.005, y=0.005\n",
        "                    )],\n",
        "                    xaxis=dict(showgrid=False, zeroline=False),\n",
        "                    yaxis=dict(showgrid=False, zeroline=False))\n",
        "                )\n",
        "\n",
        "fig.show()\n",
        "\n",
        "# Desenha o grafo\n",
        "plt.figure(figsize=(12, 12))\n",
        "pos = nx.spring_layout(G)\n",
        "nx.draw(G, pos, with_labels=True, node_size=3000, node_color=\"lightblue\", font_size=10, font_weight='bold', edge_color='gray')\n",
        "plt.show()\n"
      ]
    }
  ],
  "metadata": {
    "colab": {
      "provenance": []
    },
    "kernelspec": {
      "display_name": "Python 3",
      "name": "python3"
    },
    "language_info": {
      "codemirror_mode": {
        "name": "ipython",
        "version": 3
      },
      "file_extension": ".py",
      "mimetype": "text/x-python",
      "name": "python",
      "nbconvert_exporter": "python",
      "pygments_lexer": "ipython3",
      "version": "3.11.3"
    }
  },
  "nbformat": 4,
  "nbformat_minor": 0
}
