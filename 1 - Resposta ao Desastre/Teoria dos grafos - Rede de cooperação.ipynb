{
  "cells": [
    {
      "cell_type": "markdown",
      "metadata": {
        "id": "FkhPKu6_Szfs"
      },
      "source": [
        "#Teoria dos Grafos\n",
        "###Interação e rede de cooperação"
      ]
    },
    {
      "cell_type": "code",
      "execution_count": null,
      "metadata": {
        "colab": {
          "base_uri": "https://localhost:8080/"
        },
        "id": "-ADoORUoSwu3",
        "outputId": "bd1c0fa0-bc93-46e4-ba41-32b6f0cede5e"
      },
      "outputs": [],
      "source": [
        "pip install networkx plotly pandas tabulate nbformat matplotlib"
      ]
    },
    {
      "cell_type": "code",
      "execution_count": 9,
      "metadata": {
        "id": "PvG2ngI8VACZ"
      },
      "outputs": [],
      "source": [
        "import networkx as nx\n",
        "import pandas as pd\n",
        "from tabulate import tabulate\n",
        "import plotly.graph_objects as go\n",
        "import matplotlib.pyplot as plt\n",
        "\n",
        "\n",
        "# Cria um grafo direcional\n",
        "G = nx.DiGraph()\n",
        "\n",
        "#Definição de arestas (grafo direcional)\n",
        "\n",
        "edges = [\n",
        "    ('ABJICA', 'Defesa Civil Estadual'), ('ABJICA', 'Assistência Social'), ('ABJICA', 'População'),\n",
        "    ('ABJICA', 'Saúde Mental'), ('ABJICA', 'Prefeitura'), ('Cemaden', 'Defesa Civil Municipal'),\n",
        "    ('Cemaden', 'Defesa Civil Estadual'), ('Cemaden', 'Comunicação Social'),\n",
        "    ('Defesa Civil Municipal', 'Defesa Civil Estadual'), ('Defesa Civil Municipal', 'Bombeiros'),\n",
        "    ('Defesa Civil Municipal', 'Academia'), ('Defesa Civil Municipal', 'Prefeitura'),\n",
        "    ('Defesa Civil Municipal', 'Zoonoses'), ('Defesa Civil Municipal', 'CGE'),\n",
        "    ('Defesa Civil Estadual', 'Cemaden'), ('Defesa Civil Estadual', 'Defesa Civil Municipal'),\n",
        "    ('Defesa Civil Estadual', 'IPT'), ('Defesa Civil Estadual', 'Bombeiros'),\n",
        "    ('Defesa Civil Estadual', 'Assistência Social'), ('Defesa Civil Estadual', 'CCOI'),\n",
        "    ('Defesa Civil Estadual', 'Academia'), ('Defesa Civil Estadual', 'Comunicação Social'),\n",
        "    ('IPT', 'Defesa Civil Municipal'), ('IPT', 'Defesa Civil Estadual'), ('IPT', 'Bombeiros'),\n",
        "    ('Bombeiros', 'Academia'), ('Bombeiros', 'Defesa Civil Municipal'), ('Bombeiros', 'Defesa Civil Estadual'),\n",
        "    ('Bombeiros', 'Polícia Militar'), ('Bombeiros', 'Comunicação Social'), ('GCM', 'Prefeitura'),\n",
        "    ('GCM', 'População'), ('GCM', 'Academia'), ('GCM', 'Segurança pública'), ('GCM', 'Zoonoses'),\n",
        "    ('Academia', 'População'), ('Academia', 'Comunicação Social'), ('Academia', 'Assistência Social'),\n",
        "    ('Comunicação Social', 'Prefeitura'), ('Comunicação Social', 'População'), ('Comunicação Social', 'INPE'),\n",
        "    ('Comunicação Social', 'Cruz Vermelha'), ('Comunicação Social', 'Segurança pública'),\n",
        "    ('Comunicação Social', 'Saúde Mental'), ('Comunicação Social', 'Assistência Social'),\n",
        "    ('Comunicação Social', 'Bombeiros'), ('Comunicação Social', 'IPT'), ('Comunicação Social', 'Defesa Civil Estadual'),\n",
        "    ('Comunicação Social', 'Defesa Civil Municipal'), ('Comunicação Social', 'CEMADEN'),\n",
        "    ('Saúde Mental', 'Governo'), ('SUS', 'CGE'), ('SUS', 'População'), ('SUS', 'Defesa Civil Municipal'),\n",
        "    ('Cruz Vermelha', 'População'), ('Cruz Vermelha', 'Defesa Civil Municipal'), ('Cruz Vermelha', 'Defesa Civil Estadual'),\n",
        "    ('CCOI', 'Bombeiros'), ('CCOI', 'População'), ('Assistência Social', 'Assistência Social'),\n",
        "    ('Assistência Social', 'Prefeitura'), ('Defesa Civil Estadual', 'Exército'), ('Defesa Civil Estadual', 'Forças armadas'),\n",
        "    ('Defesa Civil Estadual', 'CEMADEN'), ('Defesa Civil Estadual', 'INPE'), ('Defesa Civil Estadual', 'Cruz Vermelha'),\n",
        "    ('Defesa Civil Estadual', 'Defesa Civil Municipal'), ('Defesa Civil Estadual', 'CCOI'), ('Defesa Civil Estadual', 'Segurança pública'),\n",
        "    ('Defesa Civil Estadual', 'Comunicação Social'), ('Defesa Civil Estadual', 'População'), ('Defesa Civil Estadual', 'Governador'),\n",
        "    ('Defesa Civil Municipal', 'Assistência Social'), ('Defesa Civil Municipal', 'CCOI'),\n",
        "    ('Defesa Civil Municipal', 'Bombeiros'), ('Defesa Civil Municipal', 'Saúde Mental'),\n",
        "    ('Defesa Civil Municipal', 'Segurança pública'), ('Defesa Civil Municipal', 'Cruz Vermelha'),\n",
        "    ('IPT', 'CCOI'), ('IPT', 'Academia'), ('Saúde Mental', 'Defesa Civil Municipal'), ('Saúde Mental', 'Defesa Civil Estadual'),\n",
        "    ('Saúde Mental', 'Comunicação Social'), ('Saúde Mental', 'Prefeitura'), ('Bombeiros', 'IPT'),\n",
        "    ('Bombeiros', 'Assistência Social'), ('Bombeiros', 'Segurança Pública'), ('Bombeiros', 'Prefeitura'),\n",
        "    ('SUS', 'UBS'), ('SUS', 'AMA'), ('SUS', 'Vigilância em Saúde'), ('Academia', 'Bombeiros'),\n",
        "    ('Academia', 'Defesa Civil Municipal'), ('GCM', 'Controle de Trânsito'), ('Comunicação Social', 'INPE'),\n",
        "    ('População', 'Bombeiros'), ('População', 'Saúde Mental'), ('População', 'Assistência Social'), ('Bombeiros', 'SAMU'), ('Bombeiros', 'Concessionárias')\n",
        "]\n",
        "\n",
        "G.add_edges_from(edges)"
      ]
    },
    {
      "cell_type": "markdown",
      "metadata": {
        "id": "K14BEqknVuft"
      },
      "source": [
        "Análise estatística da rede"
      ]
    },
    {
      "cell_type": "code",
      "execution_count": 10,
      "metadata": {
        "colab": {
          "base_uri": "https://localhost:8080/"
        },
        "id": "LqqGyy9mTFAG",
        "outputId": "5e0fdd43-652b-4a25-a07a-00425bff768b"
      },
      "outputs": [
        {
          "name": "stdout",
          "output_type": "stream",
          "text": [
            "Total de conexões: 95\n",
            "    Entidade                  Grau    Grau de Entrada    Grau de Saída    Centralidade de Intermediação    Centralidade de Proximidade\n",
            "--  ----------------------  ------  -----------------  ---------------  -------------------------------  -----------------------------\n",
            " 1  Defesa Civil Estadual       24                  8               16                      0.0981855                         0.277961\n",
            " 9  Bombeiros                   18                  7               11                      0.0870464                         0.277961\n",
            " 7  Defesa Civil Municipal      20                  9               11                      0.0723118                         0.310662\n",
            " 8  Comunicação Social          17                  5               12                      0.0282258                         0.240057\n",
            " 4  Saúde Mental                 9                  4                5                      0.0240087                         0.240057\n",
            " 3  População                   11                  8                3                      0.0215054                         0.293403\n",
            "10  Academia                    10                  5                5                      0.015709                          0.251488\n",
            "13  IPT                          8                  3                5                      0.00112567                        0.21125\n",
            " 2  Assistência Social          10                  8                2                      0.000840054                       0.291667\n",
            "14  CCOI                         5                  3                2                      0.000588038                       0.21125\n",
            "19  Cruz Vermelha                6                  3                3                      0.000252016                       0.203125\n",
            " 0  ABJICA                       5                  0                5                      0                                 0\n",
            "24  Forças armadas               1                  1                0                      0                                 0.185606\n",
            "25  Governador                   1                  1                0                      0                                 0.185606\n",
            "26  Segurança Pública            1                  1                0                      0                                 0.185606\n",
            "29  Vigilância em Saúde          1                  1                0                      0                                 0.03125\n",
            "27  UBS                          1                  1                0                      0                                 0.03125\n",
            "28  AMA                          1                  1                0                      0                                 0.03125\n",
            "22  SUS                          6                  0                6                      0                                 0\n",
            "30  Controle de Trânsito         1                  1                0                      0                                 0.03125\n",
            "31  SAMU                         1                  1                0                      0                                 0.185606\n",
            "23  Exército                     1                  1                0                      0                                 0.185606\n",
            "16  GCM                          6                  0                6                      0                                 0\n",
            "21  Governo                      1                  1                0                      0                                 0.170139\n",
            "20  CEMADEN                      2                  2                0                      0                                 0.204167\n",
            "18  INPE                         2                  2                0                      0                                 0.204167\n",
            "17  Segurança pública            4                  4                0                      0                                 0.235577\n",
            "15  Polícia Militar              1                  1                0                      0                                 0.185606\n",
            "12  CGE                          2                  2                0                      0                                 0.204167\n",
            "11  Zoonoses                     2                  2                0                      0                                 0.211207\n",
            " 6  Cemaden                      4                  1                3                      0                                 0.170363\n",
            " 5  Prefeitura                   7                  7                0                      0                                 0.305707\n",
            "32  Concessionárias              1                  1                0                      0                                 0.185606\n"
          ]
        }
      ],
      "source": [
        "# Total de conexões\n",
        "total_conexoes = len(G.edges())\n",
        "print(f\"Total de conexões: {total_conexoes}\")\n",
        "\n",
        "# Calcula métricas de centralidade\n",
        "degree = dict(G.degree())\n",
        "in_degree = dict(G.in_degree())\n",
        "out_degree = dict(G.out_degree())\n",
        "betweenness = nx.betweenness_centrality(G)\n",
        "closeness = nx.closeness_centrality(G)\n",
        "\n",
        "# Criando um DataFrame para mostrar os resultados\n",
        "results_df = pd.DataFrame({\n",
        "    'Entidade': list(G.nodes),\n",
        "    'Grau': [degree[node] for node in G.nodes],\n",
        "    'Grau de Entrada': [in_degree[node] for node in G.nodes],\n",
        "    'Grau de Saída': [out_degree[node] for node in G.nodes],\n",
        "    'Centralidade de Intermediação': [betweenness[node] for node in G.nodes],\n",
        "    'Centralidade de Proximidade': [closeness[node] for node in G.nodes]\n",
        "})\n",
        "\n",
        "# Ordenando por Centralidade de Intermediação\n",
        "results_df.sort_values(by='Centralidade de Intermediação', ascending=False, inplace=True)\n",
        "\n",
        "# Exibindo o DataFrame em formato de tabela\n",
        "print(tabulate(results_df, headers='keys'))\n",
        "\n",
        "# Opcional: Salvar o DataFrame como arquivo CSV\n",
        "results_df.to_csv('resultados_centralidade.csv', index=False)\n"
      ]
    },
    {
      "cell_type": "markdown",
      "metadata": {
        "id": "DouSsofdVyPj"
      },
      "source": [
        "Análise gráfica da rede"
      ]
    },
    {
      "cell_type": "code",
      "execution_count": 11,
      "metadata": {
        "colab": {
          "base_uri": "https://localhost:8080/",
          "height": 542
        },
        "id": "YUvR5C5jVj23",
        "outputId": "d799d3b5-8314-4d46-d7b1-0e3dc1ecd71c"
      },
      "outputs": [
        {
          "data": {
            "application/vnd.plotly.v1+json": {
              "config": {
                "plotlyServerURL": "https://plot.ly"
              },
              "data": [
                {
                  "hoverinfo": "none",
                  "line": {
                    "color": "#888",
                    "width": 1
                  },
                  "mode": "lines",
                  "type": "scatter",
                  "x": [
                    -0.2743618907611456,
                    0.1014093599772229,
                    null,
                    -0.2743618907611456,
                    -0.5489220471305857,
                    null,
                    -0.2743618907611456,
                    -0.2720218619345013,
                    null,
                    -0.2743618907611456,
                    0.054365885381791094,
                    null,
                    -0.2743618907611456,
                    -0.7171926302084913,
                    null,
                    0.1014093599772229,
                    0.029534387304796295,
                    null,
                    0.1014093599772229,
                    0.004690124565640905,
                    null,
                    0.1014093599772229,
                    -0.1620604337058711,
                    null,
                    0.1014093599772229,
                    -0.3845056863337742,
                    null,
                    0.1014093599772229,
                    -0.5489220471305857,
                    null,
                    0.1014093599772229,
                    -0.3508187014695932,
                    null,
                    0.1014093599772229,
                    -0.2515088387978566,
                    null,
                    0.1014093599772229,
                    -0.031044590763148236,
                    null,
                    0.1014093599772229,
                    1,
                    null,
                    0.1014093599772229,
                    0.9140580461243442,
                    null,
                    0.1014093599772229,
                    0.17473148103933828,
                    null,
                    0.1014093599772229,
                    -0.07726426996616528,
                    null,
                    0.1014093599772229,
                    -0.07807893365570516,
                    null,
                    0.1014093599772229,
                    0.8187825211707593,
                    null,
                    0.1014093599772229,
                    -0.2720218619345013,
                    null,
                    0.1014093599772229,
                    -0.6840299969110976,
                    null,
                    -0.5489220471305857,
                    -0.5489220471305857,
                    null,
                    -0.5489220471305857,
                    -0.7171926302084913,
                    null,
                    -0.2720218619345013,
                    -0.3845056863337742,
                    null,
                    -0.2720218619345013,
                    0.054365885381791094,
                    null,
                    -0.2720218619345013,
                    -0.5489220471305857,
                    null,
                    0.054365885381791094,
                    0.7935170936222304,
                    null,
                    0.054365885381791094,
                    0.004690124565640905,
                    null,
                    0.054365885381791094,
                    0.1014093599772229,
                    null,
                    0.054365885381791094,
                    -0.031044590763148236,
                    null,
                    0.054365885381791094,
                    -0.7171926302084913,
                    null,
                    0.029534387304796295,
                    0.004690124565640905,
                    null,
                    0.029534387304796295,
                    0.1014093599772229,
                    null,
                    0.029534387304796295,
                    -0.031044590763148236,
                    null,
                    0.004690124565640905,
                    0.1014093599772229,
                    null,
                    0.004690124565640905,
                    -0.3845056863337742,
                    null,
                    0.004690124565640905,
                    -0.2515088387978566,
                    null,
                    0.004690124565640905,
                    -0.7171926302084913,
                    null,
                    0.004690124565640905,
                    0.8678171809277075,
                    null,
                    0.004690124565640905,
                    -0.12678213028257201,
                    null,
                    0.004690124565640905,
                    -0.5489220471305857,
                    null,
                    0.004690124565640905,
                    -0.3508187014695932,
                    null,
                    0.004690124565640905,
                    0.054365885381791094,
                    null,
                    0.004690124565640905,
                    0.8187825211707593,
                    null,
                    0.004690124565640905,
                    -0.07807893365570516,
                    null,
                    -0.031044590763148236,
                    -0.7171926302084913,
                    null,
                    -0.031044590763148236,
                    -0.2720218619345013,
                    null,
                    -0.031044590763148236,
                    -0.07726426996616528,
                    null,
                    -0.031044590763148236,
                    -0.07807893365570516,
                    null,
                    -0.031044590763148236,
                    0.8187825211707593,
                    null,
                    -0.031044590763148236,
                    0.054365885381791094,
                    null,
                    -0.031044590763148236,
                    -0.5489220471305857,
                    null,
                    -0.031044590763148236,
                    -0.3845056863337742,
                    null,
                    -0.031044590763148236,
                    -0.1620604337058711,
                    null,
                    -0.031044590763148236,
                    0.1014093599772229,
                    null,
                    -0.031044590763148236,
                    0.004690124565640905,
                    null,
                    -0.031044590763148236,
                    0.17473148103933828,
                    null,
                    -0.3845056863337742,
                    -0.2515088387978566,
                    null,
                    -0.3845056863337742,
                    0.004690124565640905,
                    null,
                    -0.3845056863337742,
                    0.1014093599772229,
                    null,
                    -0.3845056863337742,
                    -0.8586104243573475,
                    null,
                    -0.3845056863337742,
                    -0.031044590763148236,
                    null,
                    -0.3845056863337742,
                    -0.1620604337058711,
                    null,
                    -0.3845056863337742,
                    -0.5489220471305857,
                    null,
                    -0.3845056863337742,
                    -0.47221831847796486,
                    null,
                    -0.3845056863337742,
                    -0.7171926302084913,
                    null,
                    -0.3845056863337742,
                    -0.5376191746970655,
                    null,
                    -0.3845056863337742,
                    -0.2821316467907287,
                    null,
                    -0.2515088387978566,
                    -0.2720218619345013,
                    null,
                    -0.2515088387978566,
                    -0.031044590763148236,
                    null,
                    -0.2515088387978566,
                    -0.5489220471305857,
                    null,
                    -0.2515088387978566,
                    -0.3845056863337742,
                    null,
                    -0.2515088387978566,
                    0.004690124565640905,
                    null,
                    -0.1620604337058711,
                    0.004690124565640905,
                    null,
                    -0.1620604337058711,
                    0.1014093599772229,
                    null,
                    -0.1620604337058711,
                    -0.3845056863337742,
                    null,
                    -0.1620604337058711,
                    -0.3508187014695932,
                    null,
                    -0.1620604337058711,
                    -0.2515088387978566,
                    null,
                    -0.3508187014695932,
                    -0.3845056863337742,
                    null,
                    -0.3508187014695932,
                    -0.2720218619345013,
                    null,
                    0.17383013871968117,
                    -0.7171926302084913,
                    null,
                    0.17383013871968117,
                    -0.2720218619345013,
                    null,
                    0.17383013871968117,
                    -0.2515088387978566,
                    null,
                    0.17383013871968117,
                    0.8187825211707593,
                    null,
                    0.17383013871968117,
                    0.8678171809277075,
                    null,
                    0.17383013871968117,
                    0.2456867901531541,
                    null,
                    -0.07807893365570516,
                    -0.2720218619345013,
                    null,
                    -0.07807893365570516,
                    0.004690124565640905,
                    null,
                    -0.07807893365570516,
                    0.1014093599772229,
                    null,
                    0.11772047557532583,
                    -0.12678213028257201,
                    null,
                    0.11772047557532583,
                    -0.2720218619345013,
                    null,
                    0.11772047557532583,
                    0.004690124565640905,
                    null,
                    0.11772047557532583,
                    -0.59600511735883,
                    null,
                    0.11772047557532583,
                    0.5475102765469239,
                    null,
                    0.11772047557532583,
                    0.8615229324935277,
                    null
                  ],
                  "y": [
                    0.21260133046556492,
                    -0.059127199680384934,
                    null,
                    0.21260133046556492,
                    0.2905536245064243,
                    null,
                    0.21260133046556492,
                    0.18639280154760507,
                    null,
                    0.21260133046556492,
                    0.2827713278534218,
                    null,
                    0.21260133046556492,
                    0.36299601978991886,
                    null,
                    -0.059127199680384934,
                    -0.09587794332322873,
                    null,
                    -0.059127199680384934,
                    -0.16573113470659293,
                    null,
                    -0.059127199680384934,
                    -0.04037064851776507,
                    null,
                    -0.059127199680384934,
                    -0.04926782175493979,
                    null,
                    -0.059127199680384934,
                    0.2905536245064243,
                    null,
                    -0.059127199680384934,
                    0.075034080899148,
                    null,
                    -0.059127199680384934,
                    0.05106336728687621,
                    null,
                    -0.059127199680384934,
                    -0.027380194629234314,
                    null,
                    -0.059127199680384934,
                    -0.08584835019912732,
                    null,
                    -0.059127199680384934,
                    0.1284097740944216,
                    null,
                    -0.059127199680384934,
                    -0.9089195289122075,
                    null,
                    -0.059127199680384934,
                    0.8473402598167461,
                    null,
                    -0.059127199680384934,
                    0.011632555067974008,
                    null,
                    -0.059127199680384934,
                    -0.6144685912998711,
                    null,
                    -0.059127199680384934,
                    0.18639280154760507,
                    null,
                    -0.059127199680384934,
                    -0.33739587120573306,
                    null,
                    0.2905536245064243,
                    0.2905536245064243,
                    null,
                    0.2905536245064243,
                    0.36299601978991886,
                    null,
                    0.18639280154760507,
                    -0.04926782175493979,
                    null,
                    0.18639280154760507,
                    0.2827713278534218,
                    null,
                    0.18639280154760507,
                    0.2905536245064243,
                    null,
                    0.2827713278534218,
                    0.7016257151946232,
                    null,
                    0.2827713278534218,
                    -0.16573113470659293,
                    null,
                    0.2827713278534218,
                    -0.059127199680384934,
                    null,
                    0.2827713278534218,
                    -0.027380194629234314,
                    null,
                    0.2827713278534218,
                    0.36299601978991886,
                    null,
                    -0.09587794332322873,
                    -0.16573113470659293,
                    null,
                    -0.09587794332322873,
                    -0.059127199680384934,
                    null,
                    -0.09587794332322873,
                    -0.027380194629234314,
                    null,
                    -0.16573113470659293,
                    -0.059127199680384934,
                    null,
                    -0.16573113470659293,
                    -0.04926782175493979,
                    null,
                    -0.16573113470659293,
                    0.05106336728687621,
                    null,
                    -0.16573113470659293,
                    0.36299601978991886,
                    null,
                    -0.16573113470659293,
                    -0.38413732400888745,
                    null,
                    -0.16573113470659293,
                    -0.9698826312219836,
                    null,
                    -0.16573113470659293,
                    0.2905536245064243,
                    null,
                    -0.16573113470659293,
                    0.075034080899148,
                    null,
                    -0.16573113470659293,
                    0.2827713278534218,
                    null,
                    -0.16573113470659293,
                    -0.6144685912998711,
                    null,
                    -0.16573113470659293,
                    0.011632555067974008,
                    null,
                    -0.027380194629234314,
                    0.36299601978991886,
                    null,
                    -0.027380194629234314,
                    0.18639280154760507,
                    null,
                    -0.027380194629234314,
                    0.8473402598167461,
                    null,
                    -0.027380194629234314,
                    0.011632555067974008,
                    null,
                    -0.027380194629234314,
                    -0.6144685912998711,
                    null,
                    -0.027380194629234314,
                    0.2827713278534218,
                    null,
                    -0.027380194629234314,
                    0.2905536245064243,
                    null,
                    -0.027380194629234314,
                    -0.04926782175493979,
                    null,
                    -0.027380194629234314,
                    -0.04037064851776507,
                    null,
                    -0.027380194629234314,
                    -0.059127199680384934,
                    null,
                    -0.027380194629234314,
                    -0.16573113470659293,
                    null,
                    -0.027380194629234314,
                    -0.9089195289122075,
                    null,
                    -0.04926782175493979,
                    0.05106336728687621,
                    null,
                    -0.04926782175493979,
                    -0.16573113470659293,
                    null,
                    -0.04926782175493979,
                    -0.059127199680384934,
                    null,
                    -0.04926782175493979,
                    0.010416885846123878,
                    null,
                    -0.04926782175493979,
                    -0.027380194629234314,
                    null,
                    -0.04926782175493979,
                    -0.04037064851776507,
                    null,
                    -0.04926782175493979,
                    0.2905536245064243,
                    null,
                    -0.04926782175493979,
                    0.7148144670433222,
                    null,
                    -0.04926782175493979,
                    0.36299601978991886,
                    null,
                    -0.04926782175493979,
                    -0.7943642521418487,
                    null,
                    -0.04926782175493979,
                    -0.649003155856462,
                    null,
                    0.05106336728687621,
                    0.18639280154760507,
                    null,
                    0.05106336728687621,
                    -0.027380194629234314,
                    null,
                    0.05106336728687621,
                    0.2905536245064243,
                    null,
                    0.05106336728687621,
                    -0.04926782175493979,
                    null,
                    0.05106336728687621,
                    -0.16573113470659293,
                    null,
                    -0.04037064851776507,
                    -0.16573113470659293,
                    null,
                    -0.04037064851776507,
                    -0.059127199680384934,
                    null,
                    -0.04037064851776507,
                    -0.04926782175493979,
                    null,
                    -0.04037064851776507,
                    0.075034080899148,
                    null,
                    -0.04037064851776507,
                    0.05106336728687621,
                    null,
                    0.075034080899148,
                    -0.04926782175493979,
                    null,
                    0.075034080899148,
                    0.18639280154760507,
                    null,
                    0.04933418276869107,
                    0.36299601978991886,
                    null,
                    0.04933418276869107,
                    0.18639280154760507,
                    null,
                    0.04933418276869107,
                    0.05106336728687621,
                    null,
                    0.04933418276869107,
                    -0.6144685912998711,
                    null,
                    0.04933418276869107,
                    -0.38413732400888745,
                    null,
                    0.04933418276869107,
                    0.8268668720256633,
                    null,
                    0.011632555067974008,
                    0.18639280154760507,
                    null,
                    0.011632555067974008,
                    -0.16573113470659293,
                    null,
                    0.011632555067974008,
                    -0.059127199680384934,
                    null,
                    -0.08179249790026304,
                    -0.9698826312219836,
                    null,
                    -0.08179249790026304,
                    0.18639280154760507,
                    null,
                    -0.08179249790026304,
                    -0.16573113470659293,
                    null,
                    -0.08179249790026304,
                    -0.6510694234990518,
                    null,
                    -0.08179249790026304,
                    0.7726049439819439,
                    null,
                    -0.08179249790026304,
                    0.3901783606691143,
                    null
                  ]
                },
                {
                  "hoverinfo": "text",
                  "marker": {
                    "colorbar": {
                      "thickness": 15,
                      "title": {
                        "side": "right",
                        "text": "Centralidade"
                      },
                      "xanchor": "left"
                    },
                    "colorscale": [
                      [
                        0,
                        "rgb(255,255,217)"
                      ],
                      [
                        0.125,
                        "rgb(237,248,177)"
                      ],
                      [
                        0.25,
                        "rgb(199,233,180)"
                      ],
                      [
                        0.375,
                        "rgb(127,205,187)"
                      ],
                      [
                        0.5,
                        "rgb(65,182,196)"
                      ],
                      [
                        0.625,
                        "rgb(29,145,192)"
                      ],
                      [
                        0.75,
                        "rgb(34,94,168)"
                      ],
                      [
                        0.875,
                        "rgb(37,52,148)"
                      ],
                      [
                        1,
                        "rgb(8,29,88)"
                      ]
                    ],
                    "showscale": true,
                    "size": 20
                  },
                  "mode": "markers",
                  "text": [
                    "ABJICA<br>Grau: 5<br>Grau de Entrada: 0<br>Grau de Saída: 5",
                    "Defesa Civil Estadual<br>Grau: 24<br>Grau de Entrada: 8<br>Grau de Saída: 16",
                    "Assistência Social<br>Grau: 10<br>Grau de Entrada: 8<br>Grau de Saída: 2",
                    "População<br>Grau: 11<br>Grau de Entrada: 8<br>Grau de Saída: 3",
                    "Saúde Mental<br>Grau: 9<br>Grau de Entrada: 4<br>Grau de Saída: 5",
                    "Prefeitura<br>Grau: 7<br>Grau de Entrada: 7<br>Grau de Saída: 0",
                    "Cemaden<br>Grau: 4<br>Grau de Entrada: 1<br>Grau de Saída: 3",
                    "Defesa Civil Municipal<br>Grau: 20<br>Grau de Entrada: 9<br>Grau de Saída: 11",
                    "Comunicação Social<br>Grau: 17<br>Grau de Entrada: 5<br>Grau de Saída: 12",
                    "Bombeiros<br>Grau: 18<br>Grau de Entrada: 7<br>Grau de Saída: 11",
                    "Academia<br>Grau: 10<br>Grau de Entrada: 5<br>Grau de Saída: 5",
                    "Zoonoses<br>Grau: 2<br>Grau de Entrada: 2<br>Grau de Saída: 0",
                    "CGE<br>Grau: 2<br>Grau de Entrada: 2<br>Grau de Saída: 0",
                    "IPT<br>Grau: 8<br>Grau de Entrada: 3<br>Grau de Saída: 5",
                    "CCOI<br>Grau: 5<br>Grau de Entrada: 3<br>Grau de Saída: 2",
                    "Polícia Militar<br>Grau: 1<br>Grau de Entrada: 1<br>Grau de Saída: 0",
                    "GCM<br>Grau: 6<br>Grau de Entrada: 0<br>Grau de Saída: 6",
                    "Segurança pública<br>Grau: 4<br>Grau de Entrada: 4<br>Grau de Saída: 0",
                    "INPE<br>Grau: 2<br>Grau de Entrada: 2<br>Grau de Saída: 0",
                    "Cruz Vermelha<br>Grau: 6<br>Grau de Entrada: 3<br>Grau de Saída: 3",
                    "CEMADEN<br>Grau: 2<br>Grau de Entrada: 2<br>Grau de Saída: 0",
                    "Governo<br>Grau: 1<br>Grau de Entrada: 1<br>Grau de Saída: 0",
                    "SUS<br>Grau: 6<br>Grau de Entrada: 0<br>Grau de Saída: 6",
                    "Exército<br>Grau: 1<br>Grau de Entrada: 1<br>Grau de Saída: 0",
                    "Forças armadas<br>Grau: 1<br>Grau de Entrada: 1<br>Grau de Saída: 0",
                    "Governador<br>Grau: 1<br>Grau de Entrada: 1<br>Grau de Saída: 0",
                    "Segurança Pública<br>Grau: 1<br>Grau de Entrada: 1<br>Grau de Saída: 0",
                    "UBS<br>Grau: 1<br>Grau de Entrada: 1<br>Grau de Saída: 0",
                    "AMA<br>Grau: 1<br>Grau de Entrada: 1<br>Grau de Saída: 0",
                    "Vigilância em Saúde<br>Grau: 1<br>Grau de Entrada: 1<br>Grau de Saída: 0",
                    "Controle de Trânsito<br>Grau: 1<br>Grau de Entrada: 1<br>Grau de Saída: 0",
                    "SAMU<br>Grau: 1<br>Grau de Entrada: 1<br>Grau de Saída: 0",
                    "Concessionárias<br>Grau: 1<br>Grau de Entrada: 1<br>Grau de Saída: 0"
                  ],
                  "type": "scatter",
                  "x": [
                    -0.2743618907611456,
                    0.1014093599772229,
                    -0.5489220471305857,
                    -0.2720218619345013,
                    0.054365885381791094,
                    -0.7171926302084913,
                    0.029534387304796295,
                    0.004690124565640905,
                    -0.031044590763148236,
                    -0.3845056863337742,
                    -0.2515088387978566,
                    0.8678171809277075,
                    -0.12678213028257201,
                    -0.1620604337058711,
                    -0.3508187014695932,
                    -0.8586104243573475,
                    0.17383013871968117,
                    0.8187825211707593,
                    -0.07726426996616528,
                    -0.07807893365570516,
                    0.17473148103933828,
                    0.7935170936222304,
                    0.11772047557532583,
                    1,
                    0.9140580461243442,
                    -0.6840299969110976,
                    -0.47221831847796486,
                    -0.59600511735883,
                    0.5475102765469239,
                    0.8615229324935277,
                    0.2456867901531541,
                    -0.5376191746970655,
                    -0.2821316467907287
                  ],
                  "y": [
                    0.21260133046556492,
                    -0.059127199680384934,
                    0.2905536245064243,
                    0.18639280154760507,
                    0.2827713278534218,
                    0.36299601978991886,
                    -0.09587794332322873,
                    -0.16573113470659293,
                    -0.027380194629234314,
                    -0.04926782175493979,
                    0.05106336728687621,
                    -0.38413732400888745,
                    -0.9698826312219836,
                    -0.04037064851776507,
                    0.075034080899148,
                    0.010416885846123878,
                    0.04933418276869107,
                    -0.6144685912998711,
                    0.8473402598167461,
                    0.011632555067974008,
                    -0.9089195289122075,
                    0.7016257151946232,
                    -0.08179249790026304,
                    -0.08584835019912732,
                    0.1284097740944216,
                    -0.33739587120573306,
                    0.7148144670433222,
                    -0.6510694234990518,
                    0.7726049439819439,
                    0.3901783606691143,
                    0.8268668720256633,
                    -0.7943642521418487,
                    -0.649003155856462
                  ]
                }
              ],
              "layout": {
                "annotations": [
                  {
                    "showarrow": false,
                    "text": "Total de Conexões: 95",
                    "x": 0.005,
                    "xref": "paper",
                    "y": 0.005,
                    "yref": "paper"
                  }
                ],
                "hovermode": "closest",
                "margin": {
                  "b": 0,
                  "l": 0,
                  "r": 0,
                  "t": 0
                },
                "showlegend": false,
                "template": {
                  "data": {
                    "bar": [
                      {
                        "error_x": {
                          "color": "#2a3f5f"
                        },
                        "error_y": {
                          "color": "#2a3f5f"
                        },
                        "marker": {
                          "line": {
                            "color": "#E5ECF6",
                            "width": 0.5
                          },
                          "pattern": {
                            "fillmode": "overlay",
                            "size": 10,
                            "solidity": 0.2
                          }
                        },
                        "type": "bar"
                      }
                    ],
                    "barpolar": [
                      {
                        "marker": {
                          "line": {
                            "color": "#E5ECF6",
                            "width": 0.5
                          },
                          "pattern": {
                            "fillmode": "overlay",
                            "size": 10,
                            "solidity": 0.2
                          }
                        },
                        "type": "barpolar"
                      }
                    ],
                    "carpet": [
                      {
                        "aaxis": {
                          "endlinecolor": "#2a3f5f",
                          "gridcolor": "white",
                          "linecolor": "white",
                          "minorgridcolor": "white",
                          "startlinecolor": "#2a3f5f"
                        },
                        "baxis": {
                          "endlinecolor": "#2a3f5f",
                          "gridcolor": "white",
                          "linecolor": "white",
                          "minorgridcolor": "white",
                          "startlinecolor": "#2a3f5f"
                        },
                        "type": "carpet"
                      }
                    ],
                    "choropleth": [
                      {
                        "colorbar": {
                          "outlinewidth": 0,
                          "ticks": ""
                        },
                        "type": "choropleth"
                      }
                    ],
                    "contour": [
                      {
                        "colorbar": {
                          "outlinewidth": 0,
                          "ticks": ""
                        },
                        "colorscale": [
                          [
                            0,
                            "#0d0887"
                          ],
                          [
                            0.1111111111111111,
                            "#46039f"
                          ],
                          [
                            0.2222222222222222,
                            "#7201a8"
                          ],
                          [
                            0.3333333333333333,
                            "#9c179e"
                          ],
                          [
                            0.4444444444444444,
                            "#bd3786"
                          ],
                          [
                            0.5555555555555556,
                            "#d8576b"
                          ],
                          [
                            0.6666666666666666,
                            "#ed7953"
                          ],
                          [
                            0.7777777777777778,
                            "#fb9f3a"
                          ],
                          [
                            0.8888888888888888,
                            "#fdca26"
                          ],
                          [
                            1,
                            "#f0f921"
                          ]
                        ],
                        "type": "contour"
                      }
                    ],
                    "contourcarpet": [
                      {
                        "colorbar": {
                          "outlinewidth": 0,
                          "ticks": ""
                        },
                        "type": "contourcarpet"
                      }
                    ],
                    "heatmap": [
                      {
                        "colorbar": {
                          "outlinewidth": 0,
                          "ticks": ""
                        },
                        "colorscale": [
                          [
                            0,
                            "#0d0887"
                          ],
                          [
                            0.1111111111111111,
                            "#46039f"
                          ],
                          [
                            0.2222222222222222,
                            "#7201a8"
                          ],
                          [
                            0.3333333333333333,
                            "#9c179e"
                          ],
                          [
                            0.4444444444444444,
                            "#bd3786"
                          ],
                          [
                            0.5555555555555556,
                            "#d8576b"
                          ],
                          [
                            0.6666666666666666,
                            "#ed7953"
                          ],
                          [
                            0.7777777777777778,
                            "#fb9f3a"
                          ],
                          [
                            0.8888888888888888,
                            "#fdca26"
                          ],
                          [
                            1,
                            "#f0f921"
                          ]
                        ],
                        "type": "heatmap"
                      }
                    ],
                    "heatmapgl": [
                      {
                        "colorbar": {
                          "outlinewidth": 0,
                          "ticks": ""
                        },
                        "colorscale": [
                          [
                            0,
                            "#0d0887"
                          ],
                          [
                            0.1111111111111111,
                            "#46039f"
                          ],
                          [
                            0.2222222222222222,
                            "#7201a8"
                          ],
                          [
                            0.3333333333333333,
                            "#9c179e"
                          ],
                          [
                            0.4444444444444444,
                            "#bd3786"
                          ],
                          [
                            0.5555555555555556,
                            "#d8576b"
                          ],
                          [
                            0.6666666666666666,
                            "#ed7953"
                          ],
                          [
                            0.7777777777777778,
                            "#fb9f3a"
                          ],
                          [
                            0.8888888888888888,
                            "#fdca26"
                          ],
                          [
                            1,
                            "#f0f921"
                          ]
                        ],
                        "type": "heatmapgl"
                      }
                    ],
                    "histogram": [
                      {
                        "marker": {
                          "pattern": {
                            "fillmode": "overlay",
                            "size": 10,
                            "solidity": 0.2
                          }
                        },
                        "type": "histogram"
                      }
                    ],
                    "histogram2d": [
                      {
                        "colorbar": {
                          "outlinewidth": 0,
                          "ticks": ""
                        },
                        "colorscale": [
                          [
                            0,
                            "#0d0887"
                          ],
                          [
                            0.1111111111111111,
                            "#46039f"
                          ],
                          [
                            0.2222222222222222,
                            "#7201a8"
                          ],
                          [
                            0.3333333333333333,
                            "#9c179e"
                          ],
                          [
                            0.4444444444444444,
                            "#bd3786"
                          ],
                          [
                            0.5555555555555556,
                            "#d8576b"
                          ],
                          [
                            0.6666666666666666,
                            "#ed7953"
                          ],
                          [
                            0.7777777777777778,
                            "#fb9f3a"
                          ],
                          [
                            0.8888888888888888,
                            "#fdca26"
                          ],
                          [
                            1,
                            "#f0f921"
                          ]
                        ],
                        "type": "histogram2d"
                      }
                    ],
                    "histogram2dcontour": [
                      {
                        "colorbar": {
                          "outlinewidth": 0,
                          "ticks": ""
                        },
                        "colorscale": [
                          [
                            0,
                            "#0d0887"
                          ],
                          [
                            0.1111111111111111,
                            "#46039f"
                          ],
                          [
                            0.2222222222222222,
                            "#7201a8"
                          ],
                          [
                            0.3333333333333333,
                            "#9c179e"
                          ],
                          [
                            0.4444444444444444,
                            "#bd3786"
                          ],
                          [
                            0.5555555555555556,
                            "#d8576b"
                          ],
                          [
                            0.6666666666666666,
                            "#ed7953"
                          ],
                          [
                            0.7777777777777778,
                            "#fb9f3a"
                          ],
                          [
                            0.8888888888888888,
                            "#fdca26"
                          ],
                          [
                            1,
                            "#f0f921"
                          ]
                        ],
                        "type": "histogram2dcontour"
                      }
                    ],
                    "mesh3d": [
                      {
                        "colorbar": {
                          "outlinewidth": 0,
                          "ticks": ""
                        },
                        "type": "mesh3d"
                      }
                    ],
                    "parcoords": [
                      {
                        "line": {
                          "colorbar": {
                            "outlinewidth": 0,
                            "ticks": ""
                          }
                        },
                        "type": "parcoords"
                      }
                    ],
                    "pie": [
                      {
                        "automargin": true,
                        "type": "pie"
                      }
                    ],
                    "scatter": [
                      {
                        "fillpattern": {
                          "fillmode": "overlay",
                          "size": 10,
                          "solidity": 0.2
                        },
                        "type": "scatter"
                      }
                    ],
                    "scatter3d": [
                      {
                        "line": {
                          "colorbar": {
                            "outlinewidth": 0,
                            "ticks": ""
                          }
                        },
                        "marker": {
                          "colorbar": {
                            "outlinewidth": 0,
                            "ticks": ""
                          }
                        },
                        "type": "scatter3d"
                      }
                    ],
                    "scattercarpet": [
                      {
                        "marker": {
                          "colorbar": {
                            "outlinewidth": 0,
                            "ticks": ""
                          }
                        },
                        "type": "scattercarpet"
                      }
                    ],
                    "scattergeo": [
                      {
                        "marker": {
                          "colorbar": {
                            "outlinewidth": 0,
                            "ticks": ""
                          }
                        },
                        "type": "scattergeo"
                      }
                    ],
                    "scattergl": [
                      {
                        "marker": {
                          "colorbar": {
                            "outlinewidth": 0,
                            "ticks": ""
                          }
                        },
                        "type": "scattergl"
                      }
                    ],
                    "scattermapbox": [
                      {
                        "marker": {
                          "colorbar": {
                            "outlinewidth": 0,
                            "ticks": ""
                          }
                        },
                        "type": "scattermapbox"
                      }
                    ],
                    "scatterpolar": [
                      {
                        "marker": {
                          "colorbar": {
                            "outlinewidth": 0,
                            "ticks": ""
                          }
                        },
                        "type": "scatterpolar"
                      }
                    ],
                    "scatterpolargl": [
                      {
                        "marker": {
                          "colorbar": {
                            "outlinewidth": 0,
                            "ticks": ""
                          }
                        },
                        "type": "scatterpolargl"
                      }
                    ],
                    "scatterternary": [
                      {
                        "marker": {
                          "colorbar": {
                            "outlinewidth": 0,
                            "ticks": ""
                          }
                        },
                        "type": "scatterternary"
                      }
                    ],
                    "surface": [
                      {
                        "colorbar": {
                          "outlinewidth": 0,
                          "ticks": ""
                        },
                        "colorscale": [
                          [
                            0,
                            "#0d0887"
                          ],
                          [
                            0.1111111111111111,
                            "#46039f"
                          ],
                          [
                            0.2222222222222222,
                            "#7201a8"
                          ],
                          [
                            0.3333333333333333,
                            "#9c179e"
                          ],
                          [
                            0.4444444444444444,
                            "#bd3786"
                          ],
                          [
                            0.5555555555555556,
                            "#d8576b"
                          ],
                          [
                            0.6666666666666666,
                            "#ed7953"
                          ],
                          [
                            0.7777777777777778,
                            "#fb9f3a"
                          ],
                          [
                            0.8888888888888888,
                            "#fdca26"
                          ],
                          [
                            1,
                            "#f0f921"
                          ]
                        ],
                        "type": "surface"
                      }
                    ],
                    "table": [
                      {
                        "cells": {
                          "fill": {
                            "color": "#EBF0F8"
                          },
                          "line": {
                            "color": "white"
                          }
                        },
                        "header": {
                          "fill": {
                            "color": "#C8D4E3"
                          },
                          "line": {
                            "color": "white"
                          }
                        },
                        "type": "table"
                      }
                    ]
                  },
                  "layout": {
                    "annotationdefaults": {
                      "arrowcolor": "#2a3f5f",
                      "arrowhead": 0,
                      "arrowwidth": 1
                    },
                    "autotypenumbers": "strict",
                    "coloraxis": {
                      "colorbar": {
                        "outlinewidth": 0,
                        "ticks": ""
                      }
                    },
                    "colorscale": {
                      "diverging": [
                        [
                          0,
                          "#8e0152"
                        ],
                        [
                          0.1,
                          "#c51b7d"
                        ],
                        [
                          0.2,
                          "#de77ae"
                        ],
                        [
                          0.3,
                          "#f1b6da"
                        ],
                        [
                          0.4,
                          "#fde0ef"
                        ],
                        [
                          0.5,
                          "#f7f7f7"
                        ],
                        [
                          0.6,
                          "#e6f5d0"
                        ],
                        [
                          0.7,
                          "#b8e186"
                        ],
                        [
                          0.8,
                          "#7fbc41"
                        ],
                        [
                          0.9,
                          "#4d9221"
                        ],
                        [
                          1,
                          "#276419"
                        ]
                      ],
                      "sequential": [
                        [
                          0,
                          "#0d0887"
                        ],
                        [
                          0.1111111111111111,
                          "#46039f"
                        ],
                        [
                          0.2222222222222222,
                          "#7201a8"
                        ],
                        [
                          0.3333333333333333,
                          "#9c179e"
                        ],
                        [
                          0.4444444444444444,
                          "#bd3786"
                        ],
                        [
                          0.5555555555555556,
                          "#d8576b"
                        ],
                        [
                          0.6666666666666666,
                          "#ed7953"
                        ],
                        [
                          0.7777777777777778,
                          "#fb9f3a"
                        ],
                        [
                          0.8888888888888888,
                          "#fdca26"
                        ],
                        [
                          1,
                          "#f0f921"
                        ]
                      ],
                      "sequentialminus": [
                        [
                          0,
                          "#0d0887"
                        ],
                        [
                          0.1111111111111111,
                          "#46039f"
                        ],
                        [
                          0.2222222222222222,
                          "#7201a8"
                        ],
                        [
                          0.3333333333333333,
                          "#9c179e"
                        ],
                        [
                          0.4444444444444444,
                          "#bd3786"
                        ],
                        [
                          0.5555555555555556,
                          "#d8576b"
                        ],
                        [
                          0.6666666666666666,
                          "#ed7953"
                        ],
                        [
                          0.7777777777777778,
                          "#fb9f3a"
                        ],
                        [
                          0.8888888888888888,
                          "#fdca26"
                        ],
                        [
                          1,
                          "#f0f921"
                        ]
                      ]
                    },
                    "colorway": [
                      "#636efa",
                      "#EF553B",
                      "#00cc96",
                      "#ab63fa",
                      "#FFA15A",
                      "#19d3f3",
                      "#FF6692",
                      "#B6E880",
                      "#FF97FF",
                      "#FECB52"
                    ],
                    "font": {
                      "color": "#2a3f5f"
                    },
                    "geo": {
                      "bgcolor": "white",
                      "lakecolor": "white",
                      "landcolor": "#E5ECF6",
                      "showlakes": true,
                      "showland": true,
                      "subunitcolor": "white"
                    },
                    "hoverlabel": {
                      "align": "left"
                    },
                    "hovermode": "closest",
                    "mapbox": {
                      "style": "light"
                    },
                    "paper_bgcolor": "white",
                    "plot_bgcolor": "#E5ECF6",
                    "polar": {
                      "angularaxis": {
                        "gridcolor": "white",
                        "linecolor": "white",
                        "ticks": ""
                      },
                      "bgcolor": "#E5ECF6",
                      "radialaxis": {
                        "gridcolor": "white",
                        "linecolor": "white",
                        "ticks": ""
                      }
                    },
                    "scene": {
                      "xaxis": {
                        "backgroundcolor": "#E5ECF6",
                        "gridcolor": "white",
                        "gridwidth": 2,
                        "linecolor": "white",
                        "showbackground": true,
                        "ticks": "",
                        "zerolinecolor": "white"
                      },
                      "yaxis": {
                        "backgroundcolor": "#E5ECF6",
                        "gridcolor": "white",
                        "gridwidth": 2,
                        "linecolor": "white",
                        "showbackground": true,
                        "ticks": "",
                        "zerolinecolor": "white"
                      },
                      "zaxis": {
                        "backgroundcolor": "#E5ECF6",
                        "gridcolor": "white",
                        "gridwidth": 2,
                        "linecolor": "white",
                        "showbackground": true,
                        "ticks": "",
                        "zerolinecolor": "white"
                      }
                    },
                    "shapedefaults": {
                      "line": {
                        "color": "#2a3f5f"
                      }
                    },
                    "ternary": {
                      "aaxis": {
                        "gridcolor": "white",
                        "linecolor": "white",
                        "ticks": ""
                      },
                      "baxis": {
                        "gridcolor": "white",
                        "linecolor": "white",
                        "ticks": ""
                      },
                      "bgcolor": "#E5ECF6",
                      "caxis": {
                        "gridcolor": "white",
                        "linecolor": "white",
                        "ticks": ""
                      }
                    },
                    "title": {
                      "x": 0.05
                    },
                    "xaxis": {
                      "automargin": true,
                      "gridcolor": "white",
                      "linecolor": "white",
                      "ticks": "",
                      "title": {
                        "standoff": 15
                      },
                      "zerolinecolor": "white",
                      "zerolinewidth": 2
                    },
                    "yaxis": {
                      "automargin": true,
                      "gridcolor": "white",
                      "linecolor": "white",
                      "ticks": "",
                      "title": {
                        "standoff": 15
                      },
                      "zerolinecolor": "white",
                      "zerolinewidth": 2
                    }
                  }
                },
                "title": {
                  "font": {
                    "size": 16
                  },
                  "text": "Grafo de Conexões entre Entidades"
                },
                "xaxis": {
                  "showgrid": false,
                  "zeroline": false
                },
                "yaxis": {
                  "showgrid": false,
                  "zeroline": false
                }
              }
            }
          },
          "metadata": {},
          "output_type": "display_data"
        },
        {
          "data": {
            "image/png": "[encoded data removed]",
            "text/plain": [
              "<Figure size 1200x1200 with 1 Axes>"
            ]
          },
          "metadata": {},
          "output_type": "display_data"
        }
      ],
      "source": [
        "# Gerando as posições dos nós usando o layout spring\n",
        "pos = nx.spring_layout(G)\n",
        "\n",
        "# Criando o grafo interativo com Plotly\n",
        "edge_x = []\n",
        "edge_y = []\n",
        "for edge in G.edges():\n",
        "    x0, y0 = pos[edge[0]]\n",
        "    x1, y1 = pos[edge[1]]\n",
        "    edge_x.append(x0)\n",
        "    edge_x.append(x1)\n",
        "    edge_x.append(None)\n",
        "    edge_y.append(y0)\n",
        "    edge_y.append(y1)\n",
        "    edge_y.append(None)\n",
        "\n",
        "edge_trace = go.Scatter(\n",
        "    x=edge_x, y=edge_y,\n",
        "    line=dict(width=1, color='#888'),\n",
        "    hoverinfo='none',\n",
        "    mode='lines')\n",
        "\n",
        "node_x = []\n",
        "node_y = []\n",
        "for node in G.nodes():\n",
        "    x, y = pos[node]\n",
        "    node_x.append(x)\n",
        "    node_y.append(y)\n",
        "\n",
        "node_trace = go.Scatter(\n",
        "    x=node_x, y=node_y,\n",
        "    mode='markers',\n",
        "    hoverinfo='text',\n",
        "    marker=dict(\n",
        "        showscale=True,\n",
        "        colorscale='YlGnBu',\n",
        "        size=20,\n",
        "        colorbar=dict(\n",
        "            thickness=15,\n",
        "            title='Centralidade',\n",
        "            xanchor='left',\n",
        "            titleside='right'\n",
        "        )\n",
        "    )\n",
        ")\n",
        "\n",
        "# Adicionando as informações de hover com base nos dados do DataFrame\n",
        "node_text = []\n",
        "for node in G.nodes():\n",
        "    node_info = f\"{node}<br>Grau: {degree[node]}<br>Grau de Entrada: {in_degree[node]}<br>Grau de Saída: {out_degree[node]}\"\n",
        "    node_text.append(node_info)\n",
        "\n",
        "node_trace.text = node_text\n",
        "\n",
        "# Criando a figura interativa\n",
        "fig = go.Figure(data=[edge_trace, node_trace],\n",
        "                layout=go.Layout(\n",
        "                    title='Grafo de Conexões entre Entidades',\n",
        "                    titlefont_size=16,\n",
        "                    showlegend=False,\n",
        "                    hovermode='closest',\n",
        "                    margin=dict(b=0, l=0, r=0, t=0),\n",
        "                    annotations=[dict(\n",
        "                        text=f\"Total de Conexões: {total_conexoes}\",\n",
        "                        showarrow=False,\n",
        "                        xref=\"paper\", yref=\"paper\",\n",
        "                        x=0.005, y=0.005\n",
        "                    )],\n",
        "                    xaxis=dict(showgrid=False, zeroline=False),\n",
        "                    yaxis=dict(showgrid=False, zeroline=False))\n",
        "                )\n",
        "\n",
        "fig.show()\n",
        "\n",
        "# Desenha o grafo\n",
        "plt.figure(figsize=(12, 12))\n",
        "pos = nx.spring_layout(G)\n",
        "nx.draw(G, pos, with_labels=True, node_size=3000, node_color=\"lightblue\", font_size=10, font_weight='bold', edge_color='gray')\n",
        "plt.show()\n"
      ]
    }
  ],
  "metadata": {
    "colab": {
      "provenance": []
    },
    "kernelspec": {
      "display_name": "Python 3",
      "name": "python3"
    },
    "language_info": {
      "codemirror_mode": {
        "name": "ipython",
        "version": 3
      },
      "file_extension": ".py",
      "mimetype": "text/x-python",
      "name": "python",
      "nbconvert_exporter": "python",
      "pygments_lexer": "ipython3",
      "version": "3.11.3"
    }
  },
  "nbformat": 4,
  "nbformat_minor": 0
}
